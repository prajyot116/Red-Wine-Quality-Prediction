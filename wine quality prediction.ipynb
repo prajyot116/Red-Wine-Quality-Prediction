{
 "cells": [
  {
   "cell_type": "markdown",
   "metadata": {},
   "source": [
    "# RED WINE QUALITY PREDICTION"
   ]
  },
  {
   "cell_type": "code",
   "execution_count": 1,
   "metadata": {},
   "outputs": [],
   "source": [
    "import pandas as pd\n",
    "import numpy as np\n",
    "import matplotlib.pyplot as plt\n",
    "import seaborn as sns\n",
    "\n",
    "pd.set_option(\"display.max_columns\",None)\n",
    "pd.set_option(\"display.max_rows\",None)\n",
    "\n",
    "import warnings\n",
    "warnings.filterwarnings(\"ignore\")"
   ]
  },
  {
   "cell_type": "code",
   "execution_count": 2,
   "metadata": {},
   "outputs": [],
   "source": [
    "wine_df = pd.read_csv(r\"C:\\Users\\Prajyot Lad\\Desktop\\csv\\winequality-red.csv\")"
   ]
  },
  {
   "cell_type": "code",
   "execution_count": 3,
   "metadata": {},
   "outputs": [
    {
     "data": {
      "text/html": [
       "<div>\n",
       "<style scoped>\n",
       "    .dataframe tbody tr th:only-of-type {\n",
       "        vertical-align: middle;\n",
       "    }\n",
       "\n",
       "    .dataframe tbody tr th {\n",
       "        vertical-align: top;\n",
       "    }\n",
       "\n",
       "    .dataframe thead th {\n",
       "        text-align: right;\n",
       "    }\n",
       "</style>\n",
       "<table border=\"1\" class=\"dataframe\">\n",
       "  <thead>\n",
       "    <tr style=\"text-align: right;\">\n",
       "      <th></th>\n",
       "      <th>fixed acidity</th>\n",
       "      <th>volatile acidity</th>\n",
       "      <th>citric acid</th>\n",
       "      <th>residual sugar</th>\n",
       "      <th>chlorides</th>\n",
       "      <th>free sulfur dioxide</th>\n",
       "      <th>total sulfur dioxide</th>\n",
       "      <th>density</th>\n",
       "      <th>pH</th>\n",
       "      <th>sulphates</th>\n",
       "      <th>alcohol</th>\n",
       "      <th>quality</th>\n",
       "    </tr>\n",
       "  </thead>\n",
       "  <tbody>\n",
       "    <tr>\n",
       "      <th>0</th>\n",
       "      <td>7.4</td>\n",
       "      <td>0.70</td>\n",
       "      <td>0.00</td>\n",
       "      <td>1.9</td>\n",
       "      <td>0.076</td>\n",
       "      <td>11.0</td>\n",
       "      <td>34.0</td>\n",
       "      <td>0.9978</td>\n",
       "      <td>3.51</td>\n",
       "      <td>0.56</td>\n",
       "      <td>9.4</td>\n",
       "      <td>5</td>\n",
       "    </tr>\n",
       "    <tr>\n",
       "      <th>1</th>\n",
       "      <td>7.8</td>\n",
       "      <td>0.88</td>\n",
       "      <td>0.00</td>\n",
       "      <td>2.6</td>\n",
       "      <td>0.098</td>\n",
       "      <td>25.0</td>\n",
       "      <td>67.0</td>\n",
       "      <td>0.9968</td>\n",
       "      <td>3.20</td>\n",
       "      <td>0.68</td>\n",
       "      <td>9.8</td>\n",
       "      <td>5</td>\n",
       "    </tr>\n",
       "    <tr>\n",
       "      <th>2</th>\n",
       "      <td>7.8</td>\n",
       "      <td>0.76</td>\n",
       "      <td>0.04</td>\n",
       "      <td>2.3</td>\n",
       "      <td>0.092</td>\n",
       "      <td>15.0</td>\n",
       "      <td>54.0</td>\n",
       "      <td>0.9970</td>\n",
       "      <td>3.26</td>\n",
       "      <td>0.65</td>\n",
       "      <td>9.8</td>\n",
       "      <td>5</td>\n",
       "    </tr>\n",
       "    <tr>\n",
       "      <th>3</th>\n",
       "      <td>11.2</td>\n",
       "      <td>0.28</td>\n",
       "      <td>0.56</td>\n",
       "      <td>1.9</td>\n",
       "      <td>0.075</td>\n",
       "      <td>17.0</td>\n",
       "      <td>60.0</td>\n",
       "      <td>0.9980</td>\n",
       "      <td>3.16</td>\n",
       "      <td>0.58</td>\n",
       "      <td>9.8</td>\n",
       "      <td>6</td>\n",
       "    </tr>\n",
       "    <tr>\n",
       "      <th>4</th>\n",
       "      <td>7.4</td>\n",
       "      <td>0.70</td>\n",
       "      <td>0.00</td>\n",
       "      <td>1.9</td>\n",
       "      <td>0.076</td>\n",
       "      <td>11.0</td>\n",
       "      <td>34.0</td>\n",
       "      <td>0.9978</td>\n",
       "      <td>3.51</td>\n",
       "      <td>0.56</td>\n",
       "      <td>9.4</td>\n",
       "      <td>5</td>\n",
       "    </tr>\n",
       "    <tr>\n",
       "      <th>5</th>\n",
       "      <td>7.4</td>\n",
       "      <td>0.66</td>\n",
       "      <td>0.00</td>\n",
       "      <td>1.8</td>\n",
       "      <td>0.075</td>\n",
       "      <td>13.0</td>\n",
       "      <td>40.0</td>\n",
       "      <td>0.9978</td>\n",
       "      <td>3.51</td>\n",
       "      <td>0.56</td>\n",
       "      <td>9.4</td>\n",
       "      <td>5</td>\n",
       "    </tr>\n",
       "    <tr>\n",
       "      <th>6</th>\n",
       "      <td>7.9</td>\n",
       "      <td>0.60</td>\n",
       "      <td>0.06</td>\n",
       "      <td>1.6</td>\n",
       "      <td>0.069</td>\n",
       "      <td>15.0</td>\n",
       "      <td>59.0</td>\n",
       "      <td>0.9964</td>\n",
       "      <td>3.30</td>\n",
       "      <td>0.46</td>\n",
       "      <td>9.4</td>\n",
       "      <td>5</td>\n",
       "    </tr>\n",
       "    <tr>\n",
       "      <th>7</th>\n",
       "      <td>7.3</td>\n",
       "      <td>0.65</td>\n",
       "      <td>0.00</td>\n",
       "      <td>1.2</td>\n",
       "      <td>0.065</td>\n",
       "      <td>15.0</td>\n",
       "      <td>21.0</td>\n",
       "      <td>0.9946</td>\n",
       "      <td>3.39</td>\n",
       "      <td>0.47</td>\n",
       "      <td>10.0</td>\n",
       "      <td>7</td>\n",
       "    </tr>\n",
       "    <tr>\n",
       "      <th>8</th>\n",
       "      <td>7.8</td>\n",
       "      <td>0.58</td>\n",
       "      <td>0.02</td>\n",
       "      <td>2.0</td>\n",
       "      <td>0.073</td>\n",
       "      <td>9.0</td>\n",
       "      <td>18.0</td>\n",
       "      <td>0.9968</td>\n",
       "      <td>3.36</td>\n",
       "      <td>0.57</td>\n",
       "      <td>9.5</td>\n",
       "      <td>7</td>\n",
       "    </tr>\n",
       "    <tr>\n",
       "      <th>9</th>\n",
       "      <td>7.5</td>\n",
       "      <td>0.50</td>\n",
       "      <td>0.36</td>\n",
       "      <td>6.1</td>\n",
       "      <td>0.071</td>\n",
       "      <td>17.0</td>\n",
       "      <td>102.0</td>\n",
       "      <td>0.9978</td>\n",
       "      <td>3.35</td>\n",
       "      <td>0.80</td>\n",
       "      <td>10.5</td>\n",
       "      <td>5</td>\n",
       "    </tr>\n",
       "  </tbody>\n",
       "</table>\n",
       "</div>"
      ],
      "text/plain": [
       "   fixed acidity  volatile acidity  citric acid  residual sugar  chlorides  \\\n",
       "0            7.4              0.70         0.00             1.9      0.076   \n",
       "1            7.8              0.88         0.00             2.6      0.098   \n",
       "2            7.8              0.76         0.04             2.3      0.092   \n",
       "3           11.2              0.28         0.56             1.9      0.075   \n",
       "4            7.4              0.70         0.00             1.9      0.076   \n",
       "5            7.4              0.66         0.00             1.8      0.075   \n",
       "6            7.9              0.60         0.06             1.6      0.069   \n",
       "7            7.3              0.65         0.00             1.2      0.065   \n",
       "8            7.8              0.58         0.02             2.0      0.073   \n",
       "9            7.5              0.50         0.36             6.1      0.071   \n",
       "\n",
       "   free sulfur dioxide  total sulfur dioxide  density    pH  sulphates  \\\n",
       "0                 11.0                  34.0   0.9978  3.51       0.56   \n",
       "1                 25.0                  67.0   0.9968  3.20       0.68   \n",
       "2                 15.0                  54.0   0.9970  3.26       0.65   \n",
       "3                 17.0                  60.0   0.9980  3.16       0.58   \n",
       "4                 11.0                  34.0   0.9978  3.51       0.56   \n",
       "5                 13.0                  40.0   0.9978  3.51       0.56   \n",
       "6                 15.0                  59.0   0.9964  3.30       0.46   \n",
       "7                 15.0                  21.0   0.9946  3.39       0.47   \n",
       "8                  9.0                  18.0   0.9968  3.36       0.57   \n",
       "9                 17.0                 102.0   0.9978  3.35       0.80   \n",
       "\n",
       "   alcohol  quality  \n",
       "0      9.4        5  \n",
       "1      9.8        5  \n",
       "2      9.8        5  \n",
       "3      9.8        6  \n",
       "4      9.4        5  \n",
       "5      9.4        5  \n",
       "6      9.4        5  \n",
       "7     10.0        7  \n",
       "8      9.5        7  \n",
       "9     10.5        5  "
      ]
     },
     "execution_count": 3,
     "metadata": {},
     "output_type": "execute_result"
    }
   ],
   "source": [
    "wine_df.head(10)"
   ]
  },
  {
   "cell_type": "code",
   "execution_count": 4,
   "metadata": {},
   "outputs": [
    {
     "data": {
      "text/plain": [
       "(1599, 12)"
      ]
     },
     "execution_count": 4,
     "metadata": {},
     "output_type": "execute_result"
    }
   ],
   "source": [
    "wine_df.shape"
   ]
  },
  {
   "cell_type": "code",
   "execution_count": 5,
   "metadata": {},
   "outputs": [
    {
     "data": {
      "text/html": [
       "<div>\n",
       "<style scoped>\n",
       "    .dataframe tbody tr th:only-of-type {\n",
       "        vertical-align: middle;\n",
       "    }\n",
       "\n",
       "    .dataframe tbody tr th {\n",
       "        vertical-align: top;\n",
       "    }\n",
       "\n",
       "    .dataframe thead th {\n",
       "        text-align: right;\n",
       "    }\n",
       "</style>\n",
       "<table border=\"1\" class=\"dataframe\">\n",
       "  <thead>\n",
       "    <tr style=\"text-align: right;\">\n",
       "      <th></th>\n",
       "      <th>fixed acidity</th>\n",
       "      <th>volatile acidity</th>\n",
       "      <th>citric acid</th>\n",
       "      <th>residual sugar</th>\n",
       "      <th>chlorides</th>\n",
       "      <th>free sulfur dioxide</th>\n",
       "      <th>total sulfur dioxide</th>\n",
       "      <th>density</th>\n",
       "      <th>pH</th>\n",
       "      <th>sulphates</th>\n",
       "      <th>alcohol</th>\n",
       "      <th>quality</th>\n",
       "    </tr>\n",
       "  </thead>\n",
       "  <tbody>\n",
       "    <tr>\n",
       "      <th>count</th>\n",
       "      <td>1599.000000</td>\n",
       "      <td>1599.000000</td>\n",
       "      <td>1599.000000</td>\n",
       "      <td>1599.000000</td>\n",
       "      <td>1599.000000</td>\n",
       "      <td>1599.000000</td>\n",
       "      <td>1599.000000</td>\n",
       "      <td>1599.000000</td>\n",
       "      <td>1599.000000</td>\n",
       "      <td>1599.000000</td>\n",
       "      <td>1599.000000</td>\n",
       "      <td>1599.000000</td>\n",
       "    </tr>\n",
       "    <tr>\n",
       "      <th>mean</th>\n",
       "      <td>8.319637</td>\n",
       "      <td>0.527821</td>\n",
       "      <td>0.270976</td>\n",
       "      <td>2.538806</td>\n",
       "      <td>0.087467</td>\n",
       "      <td>15.874922</td>\n",
       "      <td>46.467792</td>\n",
       "      <td>0.996747</td>\n",
       "      <td>3.311113</td>\n",
       "      <td>0.658149</td>\n",
       "      <td>10.422983</td>\n",
       "      <td>5.636023</td>\n",
       "    </tr>\n",
       "    <tr>\n",
       "      <th>std</th>\n",
       "      <td>1.741096</td>\n",
       "      <td>0.179060</td>\n",
       "      <td>0.194801</td>\n",
       "      <td>1.409928</td>\n",
       "      <td>0.047065</td>\n",
       "      <td>10.460157</td>\n",
       "      <td>32.895324</td>\n",
       "      <td>0.001887</td>\n",
       "      <td>0.154386</td>\n",
       "      <td>0.169507</td>\n",
       "      <td>1.065668</td>\n",
       "      <td>0.807569</td>\n",
       "    </tr>\n",
       "    <tr>\n",
       "      <th>min</th>\n",
       "      <td>4.600000</td>\n",
       "      <td>0.120000</td>\n",
       "      <td>0.000000</td>\n",
       "      <td>0.900000</td>\n",
       "      <td>0.012000</td>\n",
       "      <td>1.000000</td>\n",
       "      <td>6.000000</td>\n",
       "      <td>0.990070</td>\n",
       "      <td>2.740000</td>\n",
       "      <td>0.330000</td>\n",
       "      <td>8.400000</td>\n",
       "      <td>3.000000</td>\n",
       "    </tr>\n",
       "    <tr>\n",
       "      <th>25%</th>\n",
       "      <td>7.100000</td>\n",
       "      <td>0.390000</td>\n",
       "      <td>0.090000</td>\n",
       "      <td>1.900000</td>\n",
       "      <td>0.070000</td>\n",
       "      <td>7.000000</td>\n",
       "      <td>22.000000</td>\n",
       "      <td>0.995600</td>\n",
       "      <td>3.210000</td>\n",
       "      <td>0.550000</td>\n",
       "      <td>9.500000</td>\n",
       "      <td>5.000000</td>\n",
       "    </tr>\n",
       "    <tr>\n",
       "      <th>50%</th>\n",
       "      <td>7.900000</td>\n",
       "      <td>0.520000</td>\n",
       "      <td>0.260000</td>\n",
       "      <td>2.200000</td>\n",
       "      <td>0.079000</td>\n",
       "      <td>14.000000</td>\n",
       "      <td>38.000000</td>\n",
       "      <td>0.996750</td>\n",
       "      <td>3.310000</td>\n",
       "      <td>0.620000</td>\n",
       "      <td>10.200000</td>\n",
       "      <td>6.000000</td>\n",
       "    </tr>\n",
       "    <tr>\n",
       "      <th>75%</th>\n",
       "      <td>9.200000</td>\n",
       "      <td>0.640000</td>\n",
       "      <td>0.420000</td>\n",
       "      <td>2.600000</td>\n",
       "      <td>0.090000</td>\n",
       "      <td>21.000000</td>\n",
       "      <td>62.000000</td>\n",
       "      <td>0.997835</td>\n",
       "      <td>3.400000</td>\n",
       "      <td>0.730000</td>\n",
       "      <td>11.100000</td>\n",
       "      <td>6.000000</td>\n",
       "    </tr>\n",
       "    <tr>\n",
       "      <th>max</th>\n",
       "      <td>15.900000</td>\n",
       "      <td>1.580000</td>\n",
       "      <td>1.000000</td>\n",
       "      <td>15.500000</td>\n",
       "      <td>0.611000</td>\n",
       "      <td>72.000000</td>\n",
       "      <td>289.000000</td>\n",
       "      <td>1.003690</td>\n",
       "      <td>4.010000</td>\n",
       "      <td>2.000000</td>\n",
       "      <td>14.900000</td>\n",
       "      <td>8.000000</td>\n",
       "    </tr>\n",
       "  </tbody>\n",
       "</table>\n",
       "</div>"
      ],
      "text/plain": [
       "       fixed acidity  volatile acidity  citric acid  residual sugar  \\\n",
       "count    1599.000000       1599.000000  1599.000000     1599.000000   \n",
       "mean        8.319637          0.527821     0.270976        2.538806   \n",
       "std         1.741096          0.179060     0.194801        1.409928   \n",
       "min         4.600000          0.120000     0.000000        0.900000   \n",
       "25%         7.100000          0.390000     0.090000        1.900000   \n",
       "50%         7.900000          0.520000     0.260000        2.200000   \n",
       "75%         9.200000          0.640000     0.420000        2.600000   \n",
       "max        15.900000          1.580000     1.000000       15.500000   \n",
       "\n",
       "         chlorides  free sulfur dioxide  total sulfur dioxide      density  \\\n",
       "count  1599.000000          1599.000000           1599.000000  1599.000000   \n",
       "mean      0.087467            15.874922             46.467792     0.996747   \n",
       "std       0.047065            10.460157             32.895324     0.001887   \n",
       "min       0.012000             1.000000              6.000000     0.990070   \n",
       "25%       0.070000             7.000000             22.000000     0.995600   \n",
       "50%       0.079000            14.000000             38.000000     0.996750   \n",
       "75%       0.090000            21.000000             62.000000     0.997835   \n",
       "max       0.611000            72.000000            289.000000     1.003690   \n",
       "\n",
       "                pH    sulphates      alcohol      quality  \n",
       "count  1599.000000  1599.000000  1599.000000  1599.000000  \n",
       "mean      3.311113     0.658149    10.422983     5.636023  \n",
       "std       0.154386     0.169507     1.065668     0.807569  \n",
       "min       2.740000     0.330000     8.400000     3.000000  \n",
       "25%       3.210000     0.550000     9.500000     5.000000  \n",
       "50%       3.310000     0.620000    10.200000     6.000000  \n",
       "75%       3.400000     0.730000    11.100000     6.000000  \n",
       "max       4.010000     2.000000    14.900000     8.000000  "
      ]
     },
     "execution_count": 5,
     "metadata": {},
     "output_type": "execute_result"
    }
   ],
   "source": [
    "wine_df.describe()"
   ]
  },
  {
   "cell_type": "code",
   "execution_count": 6,
   "metadata": {},
   "outputs": [
    {
     "data": {
      "text/plain": [
       "fixed acidity           0\n",
       "volatile acidity        0\n",
       "citric acid             0\n",
       "residual sugar          0\n",
       "chlorides               0\n",
       "free sulfur dioxide     0\n",
       "total sulfur dioxide    0\n",
       "density                 0\n",
       "pH                      0\n",
       "sulphates               0\n",
       "alcohol                 0\n",
       "quality                 0\n",
       "dtype: int64"
      ]
     },
     "execution_count": 6,
     "metadata": {},
     "output_type": "execute_result"
    }
   ],
   "source": [
    "wine_df.isnull().sum()"
   ]
  },
  {
   "cell_type": "code",
   "execution_count": 7,
   "metadata": {},
   "outputs": [
    {
     "data": {
      "text/plain": [
       "fixed acidity           float64\n",
       "volatile acidity        float64\n",
       "citric acid             float64\n",
       "residual sugar          float64\n",
       "chlorides               float64\n",
       "free sulfur dioxide     float64\n",
       "total sulfur dioxide    float64\n",
       "density                 float64\n",
       "pH                      float64\n",
       "sulphates               float64\n",
       "alcohol                 float64\n",
       "quality                   int64\n",
       "dtype: object"
      ]
     },
     "execution_count": 7,
     "metadata": {},
     "output_type": "execute_result"
    }
   ],
   "source": [
    "wine_df.dtypes"
   ]
  },
  {
   "cell_type": "code",
   "execution_count": 8,
   "metadata": {},
   "outputs": [],
   "source": [
    "bins = (2, 6.5, 8)\n",
    "group_names = ['bad', 'good']\n",
    "wine_df['quality'] = pd.cut(wine_df['quality'], bins = bins, labels = group_names)"
   ]
  },
  {
   "cell_type": "code",
   "execution_count": 9,
   "metadata": {},
   "outputs": [],
   "source": [
    "#o-bad,1-good\n",
    "from sklearn import preprocessing\n",
    "le=preprocessing.LabelEncoder()\n",
    "wine_df['quality'] = le.fit_transform(wine_df['quality'])"
   ]
  },
  {
   "cell_type": "code",
   "execution_count": 10,
   "metadata": {},
   "outputs": [
    {
     "data": {
      "text/html": [
       "<div>\n",
       "<style scoped>\n",
       "    .dataframe tbody tr th:only-of-type {\n",
       "        vertical-align: middle;\n",
       "    }\n",
       "\n",
       "    .dataframe tbody tr th {\n",
       "        vertical-align: top;\n",
       "    }\n",
       "\n",
       "    .dataframe thead th {\n",
       "        text-align: right;\n",
       "    }\n",
       "</style>\n",
       "<table border=\"1\" class=\"dataframe\">\n",
       "  <thead>\n",
       "    <tr style=\"text-align: right;\">\n",
       "      <th></th>\n",
       "      <th>fixed acidity</th>\n",
       "      <th>volatile acidity</th>\n",
       "      <th>citric acid</th>\n",
       "      <th>residual sugar</th>\n",
       "      <th>chlorides</th>\n",
       "      <th>free sulfur dioxide</th>\n",
       "      <th>total sulfur dioxide</th>\n",
       "      <th>density</th>\n",
       "      <th>pH</th>\n",
       "      <th>sulphates</th>\n",
       "      <th>alcohol</th>\n",
       "      <th>quality</th>\n",
       "    </tr>\n",
       "  </thead>\n",
       "  <tbody>\n",
       "    <tr>\n",
       "      <th>0</th>\n",
       "      <td>7.4</td>\n",
       "      <td>0.700</td>\n",
       "      <td>0.00</td>\n",
       "      <td>1.9</td>\n",
       "      <td>0.076</td>\n",
       "      <td>11.0</td>\n",
       "      <td>34.0</td>\n",
       "      <td>0.9978</td>\n",
       "      <td>3.51</td>\n",
       "      <td>0.56</td>\n",
       "      <td>9.4</td>\n",
       "      <td>0</td>\n",
       "    </tr>\n",
       "    <tr>\n",
       "      <th>1</th>\n",
       "      <td>7.8</td>\n",
       "      <td>0.880</td>\n",
       "      <td>0.00</td>\n",
       "      <td>2.6</td>\n",
       "      <td>0.098</td>\n",
       "      <td>25.0</td>\n",
       "      <td>67.0</td>\n",
       "      <td>0.9968</td>\n",
       "      <td>3.20</td>\n",
       "      <td>0.68</td>\n",
       "      <td>9.8</td>\n",
       "      <td>0</td>\n",
       "    </tr>\n",
       "    <tr>\n",
       "      <th>2</th>\n",
       "      <td>7.8</td>\n",
       "      <td>0.760</td>\n",
       "      <td>0.04</td>\n",
       "      <td>2.3</td>\n",
       "      <td>0.092</td>\n",
       "      <td>15.0</td>\n",
       "      <td>54.0</td>\n",
       "      <td>0.9970</td>\n",
       "      <td>3.26</td>\n",
       "      <td>0.65</td>\n",
       "      <td>9.8</td>\n",
       "      <td>0</td>\n",
       "    </tr>\n",
       "    <tr>\n",
       "      <th>3</th>\n",
       "      <td>11.2</td>\n",
       "      <td>0.280</td>\n",
       "      <td>0.56</td>\n",
       "      <td>1.9</td>\n",
       "      <td>0.075</td>\n",
       "      <td>17.0</td>\n",
       "      <td>60.0</td>\n",
       "      <td>0.9980</td>\n",
       "      <td>3.16</td>\n",
       "      <td>0.58</td>\n",
       "      <td>9.8</td>\n",
       "      <td>0</td>\n",
       "    </tr>\n",
       "    <tr>\n",
       "      <th>4</th>\n",
       "      <td>7.4</td>\n",
       "      <td>0.700</td>\n",
       "      <td>0.00</td>\n",
       "      <td>1.9</td>\n",
       "      <td>0.076</td>\n",
       "      <td>11.0</td>\n",
       "      <td>34.0</td>\n",
       "      <td>0.9978</td>\n",
       "      <td>3.51</td>\n",
       "      <td>0.56</td>\n",
       "      <td>9.4</td>\n",
       "      <td>0</td>\n",
       "    </tr>\n",
       "    <tr>\n",
       "      <th>5</th>\n",
       "      <td>7.4</td>\n",
       "      <td>0.660</td>\n",
       "      <td>0.00</td>\n",
       "      <td>1.8</td>\n",
       "      <td>0.075</td>\n",
       "      <td>13.0</td>\n",
       "      <td>40.0</td>\n",
       "      <td>0.9978</td>\n",
       "      <td>3.51</td>\n",
       "      <td>0.56</td>\n",
       "      <td>9.4</td>\n",
       "      <td>0</td>\n",
       "    </tr>\n",
       "    <tr>\n",
       "      <th>6</th>\n",
       "      <td>7.9</td>\n",
       "      <td>0.600</td>\n",
       "      <td>0.06</td>\n",
       "      <td>1.6</td>\n",
       "      <td>0.069</td>\n",
       "      <td>15.0</td>\n",
       "      <td>59.0</td>\n",
       "      <td>0.9964</td>\n",
       "      <td>3.30</td>\n",
       "      <td>0.46</td>\n",
       "      <td>9.4</td>\n",
       "      <td>0</td>\n",
       "    </tr>\n",
       "    <tr>\n",
       "      <th>7</th>\n",
       "      <td>7.3</td>\n",
       "      <td>0.650</td>\n",
       "      <td>0.00</td>\n",
       "      <td>1.2</td>\n",
       "      <td>0.065</td>\n",
       "      <td>15.0</td>\n",
       "      <td>21.0</td>\n",
       "      <td>0.9946</td>\n",
       "      <td>3.39</td>\n",
       "      <td>0.47</td>\n",
       "      <td>10.0</td>\n",
       "      <td>1</td>\n",
       "    </tr>\n",
       "    <tr>\n",
       "      <th>8</th>\n",
       "      <td>7.8</td>\n",
       "      <td>0.580</td>\n",
       "      <td>0.02</td>\n",
       "      <td>2.0</td>\n",
       "      <td>0.073</td>\n",
       "      <td>9.0</td>\n",
       "      <td>18.0</td>\n",
       "      <td>0.9968</td>\n",
       "      <td>3.36</td>\n",
       "      <td>0.57</td>\n",
       "      <td>9.5</td>\n",
       "      <td>1</td>\n",
       "    </tr>\n",
       "    <tr>\n",
       "      <th>9</th>\n",
       "      <td>7.5</td>\n",
       "      <td>0.500</td>\n",
       "      <td>0.36</td>\n",
       "      <td>6.1</td>\n",
       "      <td>0.071</td>\n",
       "      <td>17.0</td>\n",
       "      <td>102.0</td>\n",
       "      <td>0.9978</td>\n",
       "      <td>3.35</td>\n",
       "      <td>0.80</td>\n",
       "      <td>10.5</td>\n",
       "      <td>0</td>\n",
       "    </tr>\n",
       "    <tr>\n",
       "      <th>10</th>\n",
       "      <td>6.7</td>\n",
       "      <td>0.580</td>\n",
       "      <td>0.08</td>\n",
       "      <td>1.8</td>\n",
       "      <td>0.097</td>\n",
       "      <td>15.0</td>\n",
       "      <td>65.0</td>\n",
       "      <td>0.9959</td>\n",
       "      <td>3.28</td>\n",
       "      <td>0.54</td>\n",
       "      <td>9.2</td>\n",
       "      <td>0</td>\n",
       "    </tr>\n",
       "    <tr>\n",
       "      <th>11</th>\n",
       "      <td>7.5</td>\n",
       "      <td>0.500</td>\n",
       "      <td>0.36</td>\n",
       "      <td>6.1</td>\n",
       "      <td>0.071</td>\n",
       "      <td>17.0</td>\n",
       "      <td>102.0</td>\n",
       "      <td>0.9978</td>\n",
       "      <td>3.35</td>\n",
       "      <td>0.80</td>\n",
       "      <td>10.5</td>\n",
       "      <td>0</td>\n",
       "    </tr>\n",
       "    <tr>\n",
       "      <th>12</th>\n",
       "      <td>5.6</td>\n",
       "      <td>0.615</td>\n",
       "      <td>0.00</td>\n",
       "      <td>1.6</td>\n",
       "      <td>0.089</td>\n",
       "      <td>16.0</td>\n",
       "      <td>59.0</td>\n",
       "      <td>0.9943</td>\n",
       "      <td>3.58</td>\n",
       "      <td>0.52</td>\n",
       "      <td>9.9</td>\n",
       "      <td>0</td>\n",
       "    </tr>\n",
       "    <tr>\n",
       "      <th>13</th>\n",
       "      <td>7.8</td>\n",
       "      <td>0.610</td>\n",
       "      <td>0.29</td>\n",
       "      <td>1.6</td>\n",
       "      <td>0.114</td>\n",
       "      <td>9.0</td>\n",
       "      <td>29.0</td>\n",
       "      <td>0.9974</td>\n",
       "      <td>3.26</td>\n",
       "      <td>1.56</td>\n",
       "      <td>9.1</td>\n",
       "      <td>0</td>\n",
       "    </tr>\n",
       "    <tr>\n",
       "      <th>14</th>\n",
       "      <td>8.9</td>\n",
       "      <td>0.620</td>\n",
       "      <td>0.18</td>\n",
       "      <td>3.8</td>\n",
       "      <td>0.176</td>\n",
       "      <td>52.0</td>\n",
       "      <td>145.0</td>\n",
       "      <td>0.9986</td>\n",
       "      <td>3.16</td>\n",
       "      <td>0.88</td>\n",
       "      <td>9.2</td>\n",
       "      <td>0</td>\n",
       "    </tr>\n",
       "    <tr>\n",
       "      <th>15</th>\n",
       "      <td>8.9</td>\n",
       "      <td>0.620</td>\n",
       "      <td>0.19</td>\n",
       "      <td>3.9</td>\n",
       "      <td>0.170</td>\n",
       "      <td>51.0</td>\n",
       "      <td>148.0</td>\n",
       "      <td>0.9986</td>\n",
       "      <td>3.17</td>\n",
       "      <td>0.93</td>\n",
       "      <td>9.2</td>\n",
       "      <td>0</td>\n",
       "    </tr>\n",
       "    <tr>\n",
       "      <th>16</th>\n",
       "      <td>8.5</td>\n",
       "      <td>0.280</td>\n",
       "      <td>0.56</td>\n",
       "      <td>1.8</td>\n",
       "      <td>0.092</td>\n",
       "      <td>35.0</td>\n",
       "      <td>103.0</td>\n",
       "      <td>0.9969</td>\n",
       "      <td>3.30</td>\n",
       "      <td>0.75</td>\n",
       "      <td>10.5</td>\n",
       "      <td>1</td>\n",
       "    </tr>\n",
       "    <tr>\n",
       "      <th>17</th>\n",
       "      <td>8.1</td>\n",
       "      <td>0.560</td>\n",
       "      <td>0.28</td>\n",
       "      <td>1.7</td>\n",
       "      <td>0.368</td>\n",
       "      <td>16.0</td>\n",
       "      <td>56.0</td>\n",
       "      <td>0.9968</td>\n",
       "      <td>3.11</td>\n",
       "      <td>1.28</td>\n",
       "      <td>9.3</td>\n",
       "      <td>0</td>\n",
       "    </tr>\n",
       "    <tr>\n",
       "      <th>18</th>\n",
       "      <td>7.4</td>\n",
       "      <td>0.590</td>\n",
       "      <td>0.08</td>\n",
       "      <td>4.4</td>\n",
       "      <td>0.086</td>\n",
       "      <td>6.0</td>\n",
       "      <td>29.0</td>\n",
       "      <td>0.9974</td>\n",
       "      <td>3.38</td>\n",
       "      <td>0.50</td>\n",
       "      <td>9.0</td>\n",
       "      <td>0</td>\n",
       "    </tr>\n",
       "    <tr>\n",
       "      <th>19</th>\n",
       "      <td>7.9</td>\n",
       "      <td>0.320</td>\n",
       "      <td>0.51</td>\n",
       "      <td>1.8</td>\n",
       "      <td>0.341</td>\n",
       "      <td>17.0</td>\n",
       "      <td>56.0</td>\n",
       "      <td>0.9969</td>\n",
       "      <td>3.04</td>\n",
       "      <td>1.08</td>\n",
       "      <td>9.2</td>\n",
       "      <td>0</td>\n",
       "    </tr>\n",
       "  </tbody>\n",
       "</table>\n",
       "</div>"
      ],
      "text/plain": [
       "    fixed acidity  volatile acidity  citric acid  residual sugar  chlorides  \\\n",
       "0             7.4             0.700         0.00             1.9      0.076   \n",
       "1             7.8             0.880         0.00             2.6      0.098   \n",
       "2             7.8             0.760         0.04             2.3      0.092   \n",
       "3            11.2             0.280         0.56             1.9      0.075   \n",
       "4             7.4             0.700         0.00             1.9      0.076   \n",
       "5             7.4             0.660         0.00             1.8      0.075   \n",
       "6             7.9             0.600         0.06             1.6      0.069   \n",
       "7             7.3             0.650         0.00             1.2      0.065   \n",
       "8             7.8             0.580         0.02             2.0      0.073   \n",
       "9             7.5             0.500         0.36             6.1      0.071   \n",
       "10            6.7             0.580         0.08             1.8      0.097   \n",
       "11            7.5             0.500         0.36             6.1      0.071   \n",
       "12            5.6             0.615         0.00             1.6      0.089   \n",
       "13            7.8             0.610         0.29             1.6      0.114   \n",
       "14            8.9             0.620         0.18             3.8      0.176   \n",
       "15            8.9             0.620         0.19             3.9      0.170   \n",
       "16            8.5             0.280         0.56             1.8      0.092   \n",
       "17            8.1             0.560         0.28             1.7      0.368   \n",
       "18            7.4             0.590         0.08             4.4      0.086   \n",
       "19            7.9             0.320         0.51             1.8      0.341   \n",
       "\n",
       "    free sulfur dioxide  total sulfur dioxide  density    pH  sulphates  \\\n",
       "0                  11.0                  34.0   0.9978  3.51       0.56   \n",
       "1                  25.0                  67.0   0.9968  3.20       0.68   \n",
       "2                  15.0                  54.0   0.9970  3.26       0.65   \n",
       "3                  17.0                  60.0   0.9980  3.16       0.58   \n",
       "4                  11.0                  34.0   0.9978  3.51       0.56   \n",
       "5                  13.0                  40.0   0.9978  3.51       0.56   \n",
       "6                  15.0                  59.0   0.9964  3.30       0.46   \n",
       "7                  15.0                  21.0   0.9946  3.39       0.47   \n",
       "8                   9.0                  18.0   0.9968  3.36       0.57   \n",
       "9                  17.0                 102.0   0.9978  3.35       0.80   \n",
       "10                 15.0                  65.0   0.9959  3.28       0.54   \n",
       "11                 17.0                 102.0   0.9978  3.35       0.80   \n",
       "12                 16.0                  59.0   0.9943  3.58       0.52   \n",
       "13                  9.0                  29.0   0.9974  3.26       1.56   \n",
       "14                 52.0                 145.0   0.9986  3.16       0.88   \n",
       "15                 51.0                 148.0   0.9986  3.17       0.93   \n",
       "16                 35.0                 103.0   0.9969  3.30       0.75   \n",
       "17                 16.0                  56.0   0.9968  3.11       1.28   \n",
       "18                  6.0                  29.0   0.9974  3.38       0.50   \n",
       "19                 17.0                  56.0   0.9969  3.04       1.08   \n",
       "\n",
       "    alcohol  quality  \n",
       "0       9.4        0  \n",
       "1       9.8        0  \n",
       "2       9.8        0  \n",
       "3       9.8        0  \n",
       "4       9.4        0  \n",
       "5       9.4        0  \n",
       "6       9.4        0  \n",
       "7      10.0        1  \n",
       "8       9.5        1  \n",
       "9      10.5        0  \n",
       "10      9.2        0  \n",
       "11     10.5        0  \n",
       "12      9.9        0  \n",
       "13      9.1        0  \n",
       "14      9.2        0  \n",
       "15      9.2        0  \n",
       "16     10.5        1  \n",
       "17      9.3        0  \n",
       "18      9.0        0  \n",
       "19      9.2        0  "
      ]
     },
     "execution_count": 10,
     "metadata": {},
     "output_type": "execute_result"
    }
   ],
   "source": [
    "wine_df.head(20)"
   ]
  },
  {
   "cell_type": "code",
   "execution_count": 11,
   "metadata": {
    "scrolled": false
   },
   "outputs": [
    {
     "data": {
      "image/png": "[encoded data removed]",
      "text/plain": [
       "<Figure size 432x288 with 1 Axes>"
      ]
     },
     "metadata": {
      "needs_background": "light"
     },
     "output_type": "display_data"
    },
    {
     "data": {
      "image/png": "[encoded data removed]",
      "text/plain": [
       "<Figure size 432x288 with 1 Axes>"
      ]
     },
     "metadata": {
      "needs_background": "light"
     },
     "output_type": "display_data"
    },
    {
     "data": {
      "image/png": "[encoded data removed]",
      "text/plain": [
       "<Figure size 432x288 with 1 Axes>"
      ]
     },
     "metadata": {
      "needs_background": "light"
     },
     "output_type": "display_data"
    },
    {
     "data": {
      "image/png": "[encoded data removed]",
      "text/plain": [
       "<Figure size 432x288 with 1 Axes>"
      ]
     },
     "metadata": {
      "needs_background": "light"
     },
     "output_type": "display_data"
    },
    {
     "data": {
      "image/png": "[encoded data removed]",
      "text/plain": [
       "<Figure size 432x288 with 1 Axes>"
      ]
     },
     "metadata": {
      "needs_background": "light"
     },
     "output_type": "display_data"
    },
    {
     "data": {
      "image/png": "[encoded data removed]",
      "text/plain": [
       "<Figure size 432x288 with 1 Axes>"
      ]
     },
     "metadata": {
      "needs_background": "light"
     },
     "output_type": "display_data"
    },
    {
     "data": {
      "image/png": "[encoded data removed]",
      "text/plain": [
       "<Figure size 432x288 with 1 Axes>"
      ]
     },
     "metadata": {
      "needs_background": "light"
     },
     "output_type": "display_data"
    },
    {
     "data": {
      "image/png": "[encoded data removed]",
      "text/plain": [
       "<Figure size 432x288 with 1 Axes>"
      ]
     },
     "metadata": {
      "needs_background": "light"
     },
     "output_type": "display_data"
    },
    {
     "data": {
      "image/png": "[encoded data removed]",
      "text/plain": [
       "<Figure size 432x288 with 1 Axes>"
      ]
     },
     "metadata": {
      "needs_background": "light"
     },
     "output_type": "display_data"
    },
    {
     "data": {
      "image/png": "[encoded data removed]",
      "text/plain": [
       "<Figure size 432x288 with 1 Axes>"
      ]
     },
     "metadata": {
      "needs_background": "light"
     },
     "output_type": "display_data"
    },
    {
     "data": {
      "image/png": "[encoded data removed]",
      "text/plain": [
       "<Figure size 432x288 with 1 Axes>"
      ]
     },
     "metadata": {
      "needs_background": "light"
     },
     "output_type": "display_data"
    },
    {
     "data": {
      "image/png": "[encoded data removed]",
      "text/plain": [
       "<Figure size 432x288 with 1 Axes>"
      ]
     },
     "metadata": {
      "needs_background": "light"
     },
     "output_type": "display_data"
    }
   ],
   "source": [
    "#Assumption 1: There should be no outliers in the data. Check using boxplot.\n",
    "for i in wine_df.columns:\n",
    "    wine_df.boxplot(column=i)\n",
    "    plt.show()"
   ]
  },
  {
   "cell_type": "code",
   "execution_count": 12,
   "metadata": {},
   "outputs": [],
   "source": [
    "wine_df.rename(columns = {\"fixed acidity\":'fixed_acidity',\"volatile acidity\":\"volatile_acidity\",\"citric acid\":\"citric_acid\",\"residual sugar\":\"residual_sugar\",\n",
    "                          \"free sulfur dioxide\":\"free_sulfur_dioxide\",\"total sulfur dioxide\":\"total_sulfur_dioxide\"},inplace = True)"
   ]
  },
  {
   "cell_type": "code",
   "execution_count": 13,
   "metadata": {},
   "outputs": [
    {
     "data": {
      "text/plain": [
       "Index(['fixed_acidity', 'volatile_acidity', 'citric_acid', 'residual_sugar',\n",
       "       'chlorides', 'free_sulfur_dioxide', 'total_sulfur_dioxide', 'density',\n",
       "       'pH', 'sulphates', 'alcohol', 'quality'],\n",
       "      dtype='object')"
      ]
     },
     "execution_count": 13,
     "metadata": {},
     "output_type": "execute_result"
    }
   ],
   "source": [
    "wine_df.columns"
   ]
  },
  {
   "cell_type": "markdown",
   "metadata": {},
   "source": [
    "## outlier treatment"
   ]
  },
  {
   "cell_type": "code",
   "execution_count": 25,
   "metadata": {},
   "outputs": [
    {
     "name": "stdout",
     "output_type": "stream",
     "text": [
      "(1550, 12)\n",
      "(49, 12)\n",
      "3.95\n",
      "8\n",
      "(1599, 12)\n"
     ]
    },
    {
     "data": {
      "image/png": "[encoded data removed]",
      "text/plain": [
       "<Figure size 432x288 with 1 Axes>"
      ]
     },
     "metadata": {
      "needs_background": "light"
     },
     "output_type": "display_data"
    }
   ],
   "source": [
    "#for value in colname:\n",
    "q1 = wine_df['fixed_acidity'].quantile(0.25) #first quartile value\n",
    "q3 = wine_df['fixed_acidity'].quantile(0.75) # third quartile value\n",
    "iqr = q3-q1 #Interquartile range\n",
    "low  = q1-1.5*iqr #acceptable range\n",
    "high = q3+1.5*iqr #acceptable range\n",
    "\n",
    "\n",
    "wine_df_include = wine_df.loc[(wine_df['fixed_acidity'] >= low) & \\\n",
    "                  (wine_df['fixed_acidity'] <= high)]\n",
    "wine_df_exclude = wine_df.loc[(wine_df['fixed_acidity'] < low) | (wine_df['fixed_acidity'] > high)]\n",
    "\n",
    "print(wine_df_include.shape)\n",
    "print(wine_df_exclude.shape)\n",
    "\n",
    "print(low)\n",
    "\n",
    "fixed_acidity_mean=int(wine_df_include.fixed_acidity.mean())   #finding the mean of the acceptable range\n",
    "print(fixed_acidity_mean)\n",
    "\n",
    "wine_df_exclude.fixed_acidity=fixed_acidity_mean\n",
    "\n",
    "#getting back the original shape of df\n",
    "wine_df_rev=pd.concat([wine_df_include,wine_df_exclude],axis=0) #concatenating both dfs to get \n",
    "#the original shape\n",
    "print(wine_df_rev.shape)\n",
    "wine_df_rev.boxplot(column=\"fixed_acidity\")\n",
    "plt.show()"
   ]
  },
  {
   "cell_type": "code",
   "execution_count": 26,
   "metadata": {},
   "outputs": [
    {
     "name": "stdout",
     "output_type": "stream",
     "text": [
      "(1580, 12)\n",
      "(19, 12)\n",
      "0.015000000000000013\n",
      "0\n",
      "(1599, 12)\n"
     ]
    },
    {
     "data": {
      "image/png": "[encoded data removed]",
      "text/plain": [
       "<Figure size 432x288 with 1 Axes>"
      ]
     },
     "metadata": {
      "needs_background": "light"
     },
     "output_type": "display_data"
    }
   ],
   "source": [
    "q1 = wine_df_rev['volatile_acidity'].quantile(0.25) #first quartile value\n",
    "q3 = wine_df_rev['volatile_acidity'].quantile(0.75) # third quartile value\n",
    "iqr = q3-q1 #Interquartile range\n",
    "low  = q1-1.5*iqr #acceptable range\n",
    "high = q3+1.5*iqr #acceptable range\n",
    "\n",
    "\n",
    "wine_df_rev_include = wine_df_rev.loc[(wine_df_rev['volatile_acidity'] >= low) & \\\n",
    "                  (wine_df_rev['volatile_acidity'] <= high)]\n",
    "wine_df_rev_exclude = wine_df_rev.loc[(wine_df['volatile_acidity'] < low) | (wine_df_rev['volatile_acidity'] > high)]\n",
    "\n",
    "print(wine_df_rev_include.shape)\n",
    "print(wine_df_rev_exclude.shape)\n",
    "\n",
    "print(low)\n",
    "\n",
    "volatile_acidity_mean=int(wine_df_rev_include.volatile_acidity.mean())   #finding the mean of the acceptable range\n",
    "print(volatile_acidity_mean)\n",
    "\n",
    "wine_df_rev_exclude.volatile_acidity=volatile_acidity_mean\n",
    "\n",
    "#getting back the original shape of df\n",
    "wine_df_rev1=pd.concat([wine_df_rev_include,wine_df_rev_exclude],axis=0) #concatenating both dfs to get \n",
    "#the original shape\n",
    "print(wine_df_rev1.shape)\n",
    "wine_df_rev1.boxplot(column = \"volatile_acidity\")\n",
    "plt.show()"
   ]
  },
  {
   "cell_type": "code",
   "execution_count": 27,
   "metadata": {},
   "outputs": [
    {
     "name": "stdout",
     "output_type": "stream",
     "text": [
      "(1444, 12)\n",
      "(155, 12)\n",
      "0.8499999999999996\n",
      "2\n",
      "(1599, 12)\n"
     ]
    },
    {
     "data": {
      "image/png": "[encoded data removed]",
      "text/plain": [
       "<Figure size 432x288 with 1 Axes>"
      ]
     },
     "metadata": {
      "needs_background": "light"
     },
     "output_type": "display_data"
    }
   ],
   "source": [
    "q1 = wine_df_rev1['residual_sugar'].quantile(0.25) #first quartile value\n",
    "q3 = wine_df_rev1['residual_sugar'].quantile(0.75) # third quartile value\n",
    "iqr = q3-q1 #Interquartile range\n",
    "low  = q1-1.5*iqr #acceptable range\n",
    "high = q3+1.5*iqr #acceptable range\n",
    "\n",
    "\n",
    "wine_df_rev1_include = wine_df_rev1.loc[(wine_df_rev1['residual_sugar'] >= low) & \\\n",
    "                  (wine_df_rev['residual_sugar'] <= high)]\n",
    "wine_df_rev1_exclude = wine_df_rev1.loc[(wine_df_rev1['residual_sugar'] < low) | (wine_df_rev1['residual_sugar'] > high)]\n",
    "\n",
    "print(wine_df_rev1_include.shape)\n",
    "print(wine_df_rev1_exclude.shape)\n",
    "\n",
    "print(low)\n",
    "\n",
    "residual_sugar_mean=int(wine_df_rev1_include.residual_sugar.mean())   #finding the mean of the acceptable range\n",
    "print(residual_sugar_mean)\n",
    "\n",
    "wine_df_rev1_exclude.residual_sugar=residual_sugar_mean\n",
    "\n",
    "#getting back the original shape of df\n",
    "wine_df_rev2=pd.concat([wine_df_rev1_include,wine_df_rev1_exclude],axis=0) #concatenating both dfs to get \n",
    "#the original shape\n",
    "print(wine_df_rev2.shape)\n",
    "wine_df_rev2.boxplot(column = \"residual_sugar\")\n",
    "plt.show()"
   ]
  },
  {
   "cell_type": "code",
   "execution_count": 28,
   "metadata": {},
   "outputs": [
    {
     "name": "stdout",
     "output_type": "stream",
     "text": [
      "(1487, 12)\n",
      "(112, 12)\n",
      "0.04000000000000002\n",
      "0\n",
      "(1599, 12)\n"
     ]
    },
    {
     "data": {
      "image/png": "[encoded data removed]",
      "text/plain": [
       "<Figure size 432x288 with 1 Axes>"
      ]
     },
     "metadata": {
      "needs_background": "light"
     },
     "output_type": "display_data"
    }
   ],
   "source": [
    "q1 = wine_df_rev2['chlorides'].quantile(0.25) #first quartile value\n",
    "q3 = wine_df_rev2['chlorides'].quantile(0.75) # third quartile value\n",
    "iqr = q3-q1 #Interquartile range\n",
    "low  = q1-1.5*iqr #acceptable range\n",
    "high = q3+1.5*iqr #acceptable range\n",
    "\n",
    "\n",
    "wine_df_rev2_include = wine_df_rev2.loc[(wine_df_rev2['chlorides'] >= low) & \\\n",
    "                  (wine_df_rev2['chlorides'] <= high)]\n",
    "wine_df_rev2_exclude = wine_df_rev2.loc[(wine_df_rev2['chlorides'] < low) | (wine_df_rev2['chlorides'] > high)]\n",
    "\n",
    "print(wine_df_rev2_include.shape)\n",
    "print(wine_df_rev2_exclude.shape)\n",
    "\n",
    "print(low)\n",
    "\n",
    "chlorides_mean=int(wine_df_rev2_include.chlorides.mean())   #finding the mean of the acceptable range\n",
    "print(chlorides_mean)\n",
    "\n",
    "wine_df_rev2_exclude.chlorides=chlorides_mean\n",
    "\n",
    "#getting back the original shape of df\n",
    "wine_df_rev3=pd.concat([wine_df_rev2_include,wine_df_rev2_exclude],axis=0) #concatenating both dfs to get \n",
    "#the original shape\n",
    "print(wine_df_rev3.shape)\n",
    "wine_df_rev3.boxplot(column = \"chlorides\")\n",
    "plt.show()"
   ]
  },
  {
   "cell_type": "code",
   "execution_count": 29,
   "metadata": {},
   "outputs": [
    {
     "name": "stdout",
     "output_type": "stream",
     "text": [
      "(1569, 12)\n",
      "(30, 12)\n",
      "-14.0\n",
      "15\n",
      "(1599, 12)\n"
     ]
    },
    {
     "data": {
      "image/png": "[encoded data removed]",
      "text/plain": [
       "<Figure size 432x288 with 1 Axes>"
      ]
     },
     "metadata": {
      "needs_background": "light"
     },
     "output_type": "display_data"
    }
   ],
   "source": [
    "q1 = wine_df_rev3['free_sulfur_dioxide'].quantile(0.25) #first quartile value\n",
    "q3 = wine_df_rev3['free_sulfur_dioxide'].quantile(0.75) # third quartile value\n",
    "iqr = q3-q1 #Interquartile range\n",
    "low  = q1-1.5*iqr #acceptable range\n",
    "high = q3+1.5*iqr #acceptable range\n",
    "\n",
    "\n",
    "wine_df_rev3_include = wine_df_rev3.loc[(wine_df_rev3['free_sulfur_dioxide'] >= low) & \\\n",
    "                  (wine_df_rev3['free_sulfur_dioxide'] <= high)]\n",
    "wine_df_rev3_exclude = wine_df_rev3.loc[(wine_df_rev3['free_sulfur_dioxide'] < low) | (wine_df_rev3['free_sulfur_dioxide'] > high)]\n",
    "\n",
    "print(wine_df_rev3_include.shape)\n",
    "print(wine_df_rev3_exclude.shape)\n",
    "\n",
    "print(low)\n",
    "\n",
    "free_sulfur_dioxide_mean=int(wine_df_rev3_include.free_sulfur_dioxide.mean())   #finding the mean of the acceptable range\n",
    "print(free_sulfur_dioxide_mean)\n",
    "\n",
    "wine_df_rev3_free_sulfur_dioxide=free_sulfur_dioxide_mean\n",
    "\n",
    "#getting back the original shape of df\n",
    "wine_df_rev4=pd.concat([wine_df_rev3_include,wine_df_rev3_exclude],axis=0) #concatenating both dfs to get \n",
    "#the original shape\n",
    "print(wine_df_rev4.shape)\n",
    "wine_df_rev4.boxplot(column = \"free_sulfur_dioxide\")\n",
    "plt.show()"
   ]
  },
  {
   "cell_type": "code",
   "execution_count": 30,
   "metadata": {},
   "outputs": [
    {
     "name": "stdout",
     "output_type": "stream",
     "text": [
      "(1544, 12)\n",
      "(55, 12)\n",
      "-38.0\n",
      "42\n",
      "(1599, 12)\n"
     ]
    },
    {
     "data": {
      "image/png": "[encoded data removed]",
      "text/plain": [
       "<Figure size 432x288 with 1 Axes>"
      ]
     },
     "metadata": {
      "needs_background": "light"
     },
     "output_type": "display_data"
    }
   ],
   "source": [
    "q1 = wine_df_rev4['total_sulfur_dioxide'].quantile(0.25) #first quartile value\n",
    "q3 = wine_df_rev4['total_sulfur_dioxide'].quantile(0.75) # third quartile value\n",
    "iqr = q3-q1 #Interquartile range\n",
    "low  = q1-1.5*iqr #acceptable range\n",
    "high = q3+1.5*iqr #acceptable range\n",
    "\n",
    "\n",
    "wine_df_rev4_include = wine_df_rev4.loc[(wine_df_rev4['total_sulfur_dioxide'] >= low) & \\\n",
    "                  (wine_df_rev4['total_sulfur_dioxide'] <= high)]\n",
    "wine_df_rev4_exclude = wine_df_rev4.loc[(wine_df_rev4['total_sulfur_dioxide'] < low) | (wine_df_rev4['total_sulfur_dioxide'] > high)]\n",
    "\n",
    "print(wine_df_rev4_include.shape)\n",
    "print(wine_df_rev4_exclude.shape)\n",
    "\n",
    "print(low)\n",
    "\n",
    "total_sulfur_dioxide_mean=int(wine_df_rev4_include.total_sulfur_dioxide.mean())   #finding the mean of the acceptable range\n",
    "print(total_sulfur_dioxide_mean)\n",
    "\n",
    "wine_df_rev4_exclude.total_sulfur_dioxide=total_sulfur_dioxide_mean\n",
    "\n",
    "#getting back the original shape of df\n",
    "wine_df_rev5=pd.concat([wine_df_rev4_include,wine_df_rev4_exclude],axis=0) #concatenating both dfs to get \n",
    "#the original shape\n",
    "print(wine_df_rev5.shape)\n",
    "wine_df_rev5.boxplot(column = \"total_sulfur_dioxide\")\n",
    "plt.show()"
   ]
  },
  {
   "cell_type": "code",
   "execution_count": 31,
   "metadata": {},
   "outputs": [
    {
     "name": "stdout",
     "output_type": "stream",
     "text": [
      "(1554, 12)\n",
      "(45, 12)\n",
      "0.9922475000000001\n",
      "0\n",
      "(1599, 12)\n"
     ]
    },
    {
     "data": {
      "image/png": "[encoded data removed]",
      "text/plain": [
       "<Figure size 432x288 with 1 Axes>"
      ]
     },
     "metadata": {
      "needs_background": "light"
     },
     "output_type": "display_data"
    }
   ],
   "source": [
    "q1 = wine_df_rev5['density'].quantile(0.25) #first quartile value\n",
    "q3 = wine_df_rev5['density'].quantile(0.75) # third quartile value\n",
    "iqr = q3-q1 #Interquartile range\n",
    "low  = q1-1.5*iqr #acceptable range\n",
    "high = q3+1.5*iqr #acceptable range\n",
    "\n",
    "wine_df_rev5_include = wine_df_rev5.loc[(wine_df_rev5['density'] >= low) & \\\n",
    "                  (wine_df_rev5['density'] <= high)]\n",
    "wine_df_rev5_exclude = wine_df_rev5.loc[(wine_df_rev5['density'] < low) | (wine_df_rev5['density'] > high)]\n",
    "\n",
    "print(wine_df_rev5_include.shape)\n",
    "print(wine_df_rev5_exclude.shape)\n",
    "\n",
    "print(low)\n",
    "\n",
    "\n",
    "density_mean=int(wine_df_rev5_include.density.mean())   #finding the mean of the acceptable range\n",
    "print(density_mean)\n",
    "\n",
    "wine_df_rev5_exclude.density=density_mean\n",
    "\n",
    "#getting back the original shape of df\n",
    "wine_df_rev6=pd.concat([wine_df_rev5_include,wine_df_rev5_exclude],axis=0) #concatenating both dfs to get \n",
    "#the original shape\n",
    "print(wine_df_rev6.shape)\n",
    "wine_df_rev6.boxplot(column = \"density\")\n",
    "plt.show()"
   ]
  },
  {
   "cell_type": "code",
   "execution_count": 32,
   "metadata": {},
   "outputs": [
    {
     "name": "stdout",
     "output_type": "stream",
     "text": [
      "(1564, 12)\n",
      "(35, 12)\n",
      "2.925\n",
      "3\n",
      "(1599, 12)\n"
     ]
    },
    {
     "data": {
      "image/png": "[encoded data removed]",
      "text/plain": [
       "<Figure size 432x288 with 1 Axes>"
      ]
     },
     "metadata": {
      "needs_background": "light"
     },
     "output_type": "display_data"
    }
   ],
   "source": [
    "q1 = wine_df_rev6['pH'].quantile(0.25) #first quartile value\n",
    "q3 = wine_df_rev6['pH'].quantile(0.75) # third quartile value\n",
    "iqr = q3-q1 #Interquartile range\n",
    "low  = q1-1.5*iqr #acceptable range\n",
    "high = q3+1.5*iqr #acceptable range\n",
    "\n",
    "wine_df_rev6_include = wine_df_rev6.loc[(wine_df_rev6['pH'] >= low) & \\\n",
    "                  (wine_df_rev6['pH'] <= high)]\n",
    "wine_df_rev6_exclude = wine_df_rev6.loc[(wine_df_rev6['pH'] < low) | (wine_df_rev6['pH'] > high)]\n",
    "\n",
    "print(wine_df_rev6_include.shape)\n",
    "print(wine_df_rev6_exclude.shape)\n",
    "\n",
    "print(low)\n",
    "\n",
    "\n",
    "pH_mean=int(wine_df_rev6_include.pH.mean())   #finding the mean of the acceptable range\n",
    "print(pH_mean)\n",
    "\n",
    "wine_df_rev6_exclude.pH=pH_mean\n",
    "\n",
    "#getting back the original shape of df\n",
    "wine_df_rev7=pd.concat([wine_df_rev6_include,wine_df_rev6_exclude],axis=0) #concatenating both dfs to get \n",
    "#the original shape\n",
    "print(wine_df_rev7.shape)\n",
    "wine_df_rev7.boxplot(column = \"pH\")\n",
    "plt.show()"
   ]
  },
  {
   "cell_type": "code",
   "execution_count": 33,
   "metadata": {},
   "outputs": [
    {
     "name": "stdout",
     "output_type": "stream",
     "text": [
      "(1540, 12)\n",
      "(59, 12)\n",
      "0.28000000000000014\n",
      "0\n",
      "(1599, 12)\n"
     ]
    },
    {
     "data": {
      "image/png": "[encoded data removed]",
      "text/plain": [
       "<Figure size 432x288 with 1 Axes>"
      ]
     },
     "metadata": {
      "needs_background": "light"
     },
     "output_type": "display_data"
    }
   ],
   "source": [
    "q1 = wine_df_rev7['sulphates'].quantile(0.25) #first quartile value\n",
    "q3 = wine_df_rev7['sulphates'].quantile(0.75) # third quartile value\n",
    "iqr = q3-q1 #Interquartile range\n",
    "low  = q1-1.5*iqr #acceptable range\n",
    "high = q3+1.5*iqr #acceptable range\n",
    "\n",
    "wine_df_rev7_include = wine_df_rev7.loc[(wine_df_rev7['sulphates'] >= low) & \\\n",
    "                  (wine_df_rev7['sulphates'] <= high)]\n",
    "wine_df_rev7_exclude = wine_df_rev7.loc[(wine_df_rev7['sulphates'] < low) | (wine_df_rev7['sulphates'] > high)]\n",
    "\n",
    "print(wine_df_rev7_include.shape)\n",
    "print(wine_df_rev7_exclude.shape)\n",
    "\n",
    "print(low)\n",
    "\n",
    "\n",
    "sulphates_mean=int(wine_df_rev7_include.sulphates.mean())   #finding the mean of the acceptable range\n",
    "print(sulphates_mean)\n",
    "\n",
    "wine_df_rev7_exclude.sulphates=sulphates_mean\n",
    "\n",
    "#getting back the original shape of df\n",
    "wine_df_rev8=pd.concat([wine_df_rev7_include,wine_df_rev7_exclude],axis=0) #concatenating both dfs to get \n",
    "#the original shape\n",
    "print(wine_df_rev8.shape)\n",
    "wine_df_rev8.boxplot(column = \"sulphates\")\n",
    "plt.show()"
   ]
  },
  {
   "cell_type": "code",
   "execution_count": 35,
   "metadata": {},
   "outputs": [
    {
     "name": "stdout",
     "output_type": "stream",
     "text": [
      "(1586, 12)\n",
      "(13, 12)\n",
      "7.1000000000000005\n",
      "10\n",
      "(1599, 12)\n"
     ]
    },
    {
     "data": {
      "image/png": "[encoded data removed]",
      "text/plain": [
       "<Figure size 432x288 with 1 Axes>"
      ]
     },
     "metadata": {
      "needs_background": "light"
     },
     "output_type": "display_data"
    }
   ],
   "source": [
    "q1 = wine_df_rev8['alcohol'].quantile(0.25) #first quartile value\n",
    "q3 = wine_df_rev8['alcohol'].quantile(0.75) # third quartile value\n",
    "iqr = q3-q1 #Interquartile range\n",
    "low  = q1-1.5*iqr #acceptable range\n",
    "high = q3+1.5*iqr #acceptable range\n",
    "\n",
    "wine_df_rev8_include = wine_df_rev8.loc[(wine_df_rev8['alcohol'] >= low) & \\\n",
    "                  (wine_df_rev8['alcohol'] <= high)]\n",
    "wine_df_rev8_exclude = wine_df_rev8.loc[(wine_df_rev8['alcohol'] < low) | (wine_df_rev8['alcohol'] > high)]\n",
    "\n",
    "print(wine_df_rev8_include.shape)\n",
    "print(wine_df_rev8_exclude.shape)\n",
    "\n",
    "print(low)\n",
    "\n",
    "alcohol_mean=int(wine_df_rev8_include.alcohol.mean())   #finding the mean of the acceptable range\n",
    "print(alcohol_mean)\n",
    "\n",
    "wine_df_rev8_exclude.alcohol=alcohol_mean\n",
    "\n",
    "#getting back the original shape of df\n",
    "wine_df_rev9=pd.concat([wine_df_rev8_include,wine_df_rev8_exclude],axis=0) #concatenating both dfs to get \n",
    "#the original shape\n",
    "print(wine_df_rev9.shape)\n",
    "wine_df_rev9.boxplot(column = \"alcohol\")\n",
    "plt.show()"
   ]
  },
  {
   "cell_type": "code",
   "execution_count": 37,
   "metadata": {},
   "outputs": [],
   "source": [
    "X = wine_df_rev9.values[:,0:-1]\n",
    "Y = wine_df_rev9.values[:,-1]"
   ]
  },
  {
   "cell_type": "code",
   "execution_count": 39,
   "metadata": {},
   "outputs": [
    {
     "name": "stdout",
     "output_type": "stream",
     "text": [
      "[[-0.50845786  1.06146795 -1.39147228 ...  1.42387769 -0.31367918\n",
      "  -0.97407965]\n",
      " [-0.24000017  2.09073336 -1.39147228 ... -0.69838809  0.39743567\n",
      "  -0.58097731]\n",
      " [-0.24000017  1.40455642 -1.18607043 ... -0.28762697  0.21965696\n",
      "  -0.58097731]\n",
      " ...\n",
      " [-2.11920399 -0.53961158 -0.15906119 ... -2.06759182  0.7529931\n",
      "  -0.38442614]\n",
      " [-2.18631841 -0.53961158 -1.39147228 ... -2.06759182  0.7529931\n",
      "  -0.38442614]\n",
      " [-2.11920399 -0.76833722 -1.34012182 ... -2.06759182  0.81225267\n",
      "  -0.38442614]]\n"
     ]
    }
   ],
   "source": [
    "from sklearn.preprocessing import StandardScaler\n",
    "\n",
    "scaler = StandardScaler()\n",
    "\n",
    "scaler.fit(X)\n",
    "\n",
    "X = scaler.transform(X)\n",
    "print(X)"
   ]
  },
  {
   "cell_type": "code",
   "execution_count": 40,
   "metadata": {},
   "outputs": [],
   "source": [
    "Y=Y.astype(int)"
   ]
  },
  {
   "cell_type": "code",
   "execution_count": 41,
   "metadata": {},
   "outputs": [],
   "source": [
    "from sklearn.model_selection import train_test_split\n",
    "\n",
    "#Split the data into test and train\n",
    "X_train, X_test, Y_train, Y_test = train_test_split(X, Y, test_size=0.3,\n",
    "                                                    random_state=10) "
   ]
  },
  {
   "cell_type": "code",
   "execution_count": 43,
   "metadata": {},
   "outputs": [
    {
     "name": "stdout",
     "output_type": "stream",
     "text": [
      "[(0, 0), (0, 0), (0, 0), (0, 0), (0, 0), (0, 0), (0, 0), (1, 0), (0, 0), (0, 0), (0, 0), (1, 0), (0, 0), (0, 0), (0, 0), (0, 0), (0, 0), (0, 0), (0, 0), (0, 0), (0, 0), (0, 0), (0, 0), (0, 0), (0, 0), (1, 0), (0, 0), (1, 0), (0, 0), (0, 0), (0, 0), (0, 0), (1, 1), (0, 0), (0, 0), (0, 0), (0, 0), (0, 0), (1, 0), (0, 0), (0, 0), (0, 0), (0, 0), (0, 0), (0, 0), (0, 0), (0, 0), (0, 0), (0, 0), (0, 0), (0, 0), (0, 0), (0, 0), (0, 0), (0, 0), (0, 0), (0, 0), (0, 0), (0, 0), (0, 0), (0, 0), (0, 0), (0, 0), (0, 0), (0, 1), (0, 0), (0, 0), (0, 0), (0, 0), (1, 0), (0, 0), (1, 0), (1, 0), (1, 0), (1, 0), (1, 0), (0, 0), (0, 0), (0, 0), (0, 0), (0, 0), (0, 0), (0, 0), (0, 0), (0, 0), (0, 0), (0, 0), (1, 0), (0, 0), (0, 0), (0, 0), (0, 0), (0, 0), (0, 0), (0, 0), (0, 1), (0, 0), (0, 0), (0, 0), (0, 0), (0, 0), (0, 0), (0, 0), (0, 0), (0, 0), (0, 0), (0, 0), (0, 0), (0, 1), (0, 0), (0, 0), (0, 0), (0, 0), (0, 0), (0, 0), (0, 0), (0, 0), (0, 0), (0, 0), (0, 0), (0, 0), (0, 0), (0, 0), (0, 0), (0, 0), (1, 0), (0, 0), (0, 0), (0, 0), (0, 0), (1, 1), (0, 0), (0, 0), (0, 0), (0, 0), (1, 0), (0, 0), (0, 0), (1, 0), (0, 0), (0, 0), (0, 0), (0, 0), (0, 0), (0, 0), (0, 0), (1, 1), (1, 0), (1, 0), (1, 0), (0, 0), (0, 0), (0, 0), (0, 0), (0, 0), (1, 0), (0, 0), (0, 0), (0, 0), (0, 0), (0, 0), (0, 0), (0, 0), (0, 0), (1, 1), (0, 0), (0, 0), (0, 0), (0, 0), (0, 0), (0, 0), (0, 0), (0, 0), (0, 0), (1, 1), (0, 0), (0, 0), (0, 0), (0, 0), (0, 0), (1, 0), (1, 0), (0, 0), (0, 0), (0, 0), (0, 0), (0, 0), (0, 0), (1, 0), (0, 0), (0, 0), (1, 0), (0, 0), (0, 0), (0, 0), (0, 0), (1, 0), (0, 0), (0, 0), (0, 0), (0, 0), (0, 0), (0, 0), (0, 0), (0, 0), (0, 0), (0, 0), (0, 0), (0, 0), (0, 0), (0, 0), (0, 0), (1, 0), (0, 0), (0, 0), (0, 0), (0, 0), (0, 0), (1, 0), (0, 0), (1, 0), (1, 0), (0, 0), (0, 0), (0, 0), (0, 0), (0, 0), (1, 0), (0, 0), (0, 0), (0, 0), (0, 0), (0, 0), (0, 0), (0, 0), (0, 0), (0, 0), (0, 0), (0, 0), (1, 0), (0, 0), (0, 0), (1, 0), (0, 0), (0, 0), (0, 0), (0, 1), (0, 0), (0, 0), (0, 1), (0, 0), (0, 0), (0, 0), (1, 0), (0, 0), (0, 0), (0, 0), (0, 0), (0, 0), (0, 0), (0, 0), (0, 0), (0, 0), (0, 0), (0, 0), (0, 0), (0, 0), (0, 0), (0, 0), (0, 0), (0, 0), (0, 0), (0, 0), (1, 0), (0, 0), (1, 1), (0, 0), (0, 0), (0, 0), (0, 0), (0, 0), (0, 0), (0, 0), (0, 0), (0, 0), (0, 0), (0, 0), (0, 0), (0, 0), (0, 0), (1, 0), (0, 0), (0, 0), (0, 1), (0, 0), (1, 0), (0, 0), (0, 0), (0, 1), (0, 0), (0, 0), (0, 0), (0, 0), (0, 0), (0, 0), (0, 0), (0, 0), (0, 0), (0, 0), (1, 1), (0, 0), (0, 0), (0, 0), (0, 0), (0, 0), (0, 0), (0, 0), (0, 0), (1, 0), (0, 0), (1, 0), (0, 0), (0, 0), (0, 0), (1, 0), (1, 0), (0, 0), (0, 0), (1, 0), (1, 0), (0, 0), (1, 0), (0, 0), (0, 0), (0, 0), (0, 0), (0, 0), (1, 0), (0, 0), (0, 0), (0, 0), (0, 0), (0, 0), (0, 0), (0, 0), (0, 0), (0, 0), (1, 0), (0, 0), (0, 0), (0, 0), (0, 0), (0, 0), (0, 0), (0, 0), (0, 0), (0, 0), (0, 0), (0, 0), (1, 0), (0, 0), (0, 0), (0, 0), (0, 1), (0, 0), (0, 0), (0, 0), (0, 0), (1, 1), (0, 0), (0, 1), (0, 0), (1, 1), (1, 0), (0, 0), (0, 0), (0, 0), (0, 0), (0, 0), (0, 0), (1, 1), (0, 0), (0, 0), (0, 0), (1, 0), (0, 0), (1, 0), (0, 0), (0, 0), (1, 0), (0, 0), (1, 0), (0, 0), (0, 0), (0, 0), (0, 0), (0, 0), (0, 0), (0, 0), (0, 0), (0, 0), (0, 0), (0, 0), (0, 0), (0, 0), (0, 0), (1, 0), (0, 0), (1, 0), (0, 0), (0, 0), (0, 0), (0, 0), (0, 0), (0, 0), (0, 0), (0, 0), (0, 0), (0, 0), (1, 0), (0, 0), (0, 0), (0, 0), (1, 0), (1, 0), (1, 1), (0, 0), (0, 0), (0, 0), (0, 0), (1, 0), (0, 0), (1, 0), (0, 0), (1, 0), (0, 0), (0, 0), (0, 0), (0, 0), (0, 1), (0, 0), (0, 0), (0, 0), (0, 0), (0, 0), (1, 0), (0, 0), (0, 0), (0, 0), (0, 0), (0, 0), (0, 0), (0, 0), (0, 0), (1, 0), (0, 0), (1, 1), (0, 0), (0, 0), (0, 0), (1, 0), (0, 0), (0, 0), (0, 0), (0, 0), (0, 0), (0, 0), (0, 0), (0, 0), (0, 0), (0, 0), (0, 0), (0, 0), (0, 0), (0, 0), (0, 0), (0, 0), (0, 0), (0, 0), (0, 0)]\n",
      "[('fixed_acidity', -0.1139905687198546), ('volatile_acidity', -0.4861130761035389), ('citric_acid', 0.14946061825257953), ('residual_sugar', 0.051834630060219905), ('chlorides', -0.006243397402865567), ('free_sulfur_dioxide', -0.0017135800741434812), ('total_sulfur_dioxide', -0.40551494075778455), ('density', -0.17093455827244047), ('pH', -0.20555890027035903), ('sulphates', 0.6452598693814038), ('alcohol', 0.9180687068887919)]\n"
     ]
    }
   ],
   "source": [
    "from sklearn.linear_model import LogisticRegression\n",
    "#create a model\n",
    "classifier=LogisticRegression()\n",
    "#fitting training data to the model\n",
    "classifier.fit(X_train,Y_train)\n",
    "\n",
    "Y_pred=classifier.predict(X_test)\n",
    "print(list(zip(Y_test,Y_pred)))\n",
    "\n",
    "print(list(zip(wine_df_rev8.columns[:-1],classifier.coef_.ravel())))"
   ]
  },
  {
   "cell_type": "code",
   "execution_count": 44,
   "metadata": {},
   "outputs": [
    {
     "name": "stdout",
     "output_type": "stream",
     "text": [
      "[[397  10]\n",
      " [ 61  12]]\n",
      "              precision    recall  f1-score   support\n",
      "\n",
      "           0       0.87      0.98      0.92       407\n",
      "           1       0.55      0.16      0.25        73\n",
      "\n",
      "    accuracy                           0.85       480\n",
      "   macro avg       0.71      0.57      0.59       480\n",
      "weighted avg       0.82      0.85      0.82       480\n",
      "\n",
      "Classification report: \n",
      "Accuracy of the model:  0.8520833333333333\n"
     ]
    }
   ],
   "source": [
    "from sklearn.metrics import confusion_matrix, accuracy_score, classification_report\n",
    "\n",
    "cfm=confusion_matrix(Y_test,Y_pred)\n",
    "print(cfm)\n",
    "\n",
    "print(classification_report(Y_test,Y_pred))\n",
    "print(\"Classification report: \")\n",
    "\n",
    "acc=accuracy_score(Y_test, Y_pred)\n",
    "print(\"Accuracy of the model: \",acc)"
   ]
  },
  {
   "cell_type": "code",
   "execution_count": 45,
   "metadata": {},
   "outputs": [
    {
     "name": "stdout",
     "output_type": "stream",
     "text": [
      "[[8.97547537e-01 1.02452463e-01]\n",
      " [9.48028690e-01 5.19713096e-02]\n",
      " [9.94329675e-01 5.67032477e-03]\n",
      " [9.36245018e-01 6.37549819e-02]\n",
      " [7.32413287e-01 2.67586713e-01]\n",
      " [8.78916175e-01 1.21083825e-01]\n",
      " [9.49550615e-01 5.04493854e-02]\n",
      " [6.18333175e-01 3.81666825e-01]\n",
      " [9.84544014e-01 1.54559863e-02]\n",
      " [6.27906193e-01 3.72093807e-01]\n",
      " [9.94970707e-01 5.02929333e-03]\n",
      " [5.30766581e-01 4.69233419e-01]\n",
      " [9.75622416e-01 2.43775835e-02]\n",
      " [9.30084874e-01 6.99151264e-02]\n",
      " [9.75409822e-01 2.45901784e-02]\n",
      " [9.93479507e-01 6.52049286e-03]\n",
      " [9.99552894e-01 4.47106476e-04]\n",
      " [9.93042588e-01 6.95741176e-03]\n",
      " [9.49011771e-01 5.09882287e-02]\n",
      " [7.11428059e-01 2.88571941e-01]\n",
      " [9.98252932e-01 1.74706759e-03]\n",
      " [9.97534617e-01 2.46538278e-03]\n",
      " [5.28387647e-01 4.71612353e-01]\n",
      " [9.91201263e-01 8.79873749e-03]\n",
      " [8.35608767e-01 1.64391233e-01]\n",
      " [8.79887956e-01 1.20112044e-01]\n",
      " [9.73565553e-01 2.64344472e-02]\n",
      " [7.83029126e-01 2.16970874e-01]\n",
      " [9.91370198e-01 8.62980191e-03]\n",
      " [9.67760765e-01 3.22392347e-02]\n",
      " [9.92012574e-01 7.98742621e-03]\n",
      " [7.99217304e-01 2.00782696e-01]\n",
      " [3.59155801e-01 6.40844199e-01]\n",
      " [9.71026599e-01 2.89734006e-02]\n",
      " [9.70762362e-01 2.92376381e-02]\n",
      " [9.98456512e-01 1.54348774e-03]\n",
      " [9.78732509e-01 2.12674908e-02]\n",
      " [9.65846377e-01 3.41536234e-02]\n",
      " [8.91155461e-01 1.08844539e-01]\n",
      " [8.83340986e-01 1.16659014e-01]\n",
      " [9.49313040e-01 5.06869602e-02]\n",
      " [9.87815467e-01 1.21845334e-02]\n",
      " [9.88354828e-01 1.16451718e-02]\n",
      " [8.77532933e-01 1.22467067e-01]\n",
      " [9.93253939e-01 6.74606147e-03]\n",
      " [9.74040685e-01 2.59593154e-02]\n",
      " [8.97977924e-01 1.02022076e-01]\n",
      " [9.46762925e-01 5.32370749e-02]\n",
      " [9.06094676e-01 9.39053240e-02]\n",
      " [9.82094551e-01 1.79054489e-02]\n",
      " [9.79208180e-01 2.07918202e-02]\n",
      " [8.27439296e-01 1.72560704e-01]\n",
      " [9.84218565e-01 1.57814346e-02]\n",
      " [9.62769744e-01 3.72302565e-02]\n",
      " [9.46026754e-01 5.39732464e-02]\n",
      " [9.31039678e-01 6.89603216e-02]\n",
      " [9.64087609e-01 3.59123907e-02]\n",
      " [9.41672688e-01 5.83273121e-02]\n",
      " [9.84953283e-01 1.50467173e-02]\n",
      " [9.58138863e-01 4.18611370e-02]\n",
      " [9.83930238e-01 1.60697616e-02]\n",
      " [9.61899574e-01 3.81004260e-02]\n",
      " [9.98627566e-01 1.37243444e-03]\n",
      " [9.88019278e-01 1.19807216e-02]\n",
      " [2.36258996e-01 7.63741004e-01]\n",
      " [9.77114859e-01 2.28851408e-02]\n",
      " [9.95845977e-01 4.15402266e-03]\n",
      " [7.57946120e-01 2.42053880e-01]\n",
      " [8.20449200e-01 1.79550800e-01]\n",
      " [8.17796967e-01 1.82203033e-01]\n",
      " [8.74391652e-01 1.25608348e-01]\n",
      " [6.46919412e-01 3.53080588e-01]\n",
      " [7.65801358e-01 2.34198642e-01]\n",
      " [8.33908373e-01 1.66091627e-01]\n",
      " [9.87294259e-01 1.27057412e-02]\n",
      " [5.49135819e-01 4.50864181e-01]\n",
      " [9.09913679e-01 9.00863214e-02]\n",
      " [8.29379726e-01 1.70620274e-01]\n",
      " [9.94747509e-01 5.25249135e-03]\n",
      " [9.55252851e-01 4.47471493e-02]\n",
      " [9.07488555e-01 9.25114451e-02]\n",
      " [9.75622416e-01 2.43775835e-02]\n",
      " [9.77653358e-01 2.23466416e-02]\n",
      " [9.57812368e-01 4.21876319e-02]\n",
      " [9.06582648e-01 9.34173518e-02]\n",
      " [9.90147495e-01 9.85250542e-03]\n",
      " [5.60969524e-01 4.39030476e-01]\n",
      " [9.31406527e-01 6.85934729e-02]\n",
      " [9.64954791e-01 3.50452088e-02]\n",
      " [7.18233232e-01 2.81766768e-01]\n",
      " [9.77505811e-01 2.24941889e-02]\n",
      " [9.80597186e-01 1.94028139e-02]\n",
      " [5.91333655e-01 4.08666345e-01]\n",
      " [9.68912215e-01 3.10877852e-02]\n",
      " [9.18838833e-01 8.11611669e-02]\n",
      " [4.33384838e-01 5.66615162e-01]\n",
      " [7.96889570e-01 2.03110430e-01]\n",
      " [9.95224161e-01 4.77583912e-03]\n",
      " [7.22061793e-01 2.77938207e-01]\n",
      " [9.68352511e-01 3.16474891e-02]\n",
      " [9.75638650e-01 2.43613496e-02]\n",
      " [9.68120401e-01 3.18795990e-02]\n",
      " [9.49978701e-01 5.00212994e-02]\n",
      " [9.93297363e-01 6.70263684e-03]\n",
      " [5.85066009e-01 4.14933991e-01]\n",
      " [9.95945291e-01 4.05470929e-03]\n",
      " [9.75409822e-01 2.45901784e-02]\n",
      " [9.62479636e-01 3.75203643e-02]\n",
      " [4.63565628e-01 5.36434372e-01]\n",
      " [6.58420453e-01 3.41579547e-01]\n",
      " [9.55252851e-01 4.47471493e-02]\n",
      " [9.78026420e-01 2.19735800e-02]\n",
      " [9.74158970e-01 2.58410300e-02]\n",
      " [9.67144156e-01 3.28558437e-02]\n",
      " [9.72944578e-01 2.70554216e-02]\n",
      " [9.93682331e-01 6.31766872e-03]\n",
      " [9.42186373e-01 5.78136273e-02]\n",
      " [9.98233956e-01 1.76604397e-03]\n",
      " [9.94314425e-01 5.68557492e-03]\n",
      " [9.81495482e-01 1.85045177e-02]\n",
      " [7.90376437e-01 2.09623563e-01]\n",
      " [9.88544490e-01 1.14555097e-02]\n",
      " [9.92995272e-01 7.00472759e-03]\n",
      " [8.73247126e-01 1.26752874e-01]\n",
      " [9.71026599e-01 2.89734006e-02]\n",
      " [5.09588268e-01 4.90411732e-01]\n",
      " [9.95908526e-01 4.09147446e-03]\n",
      " [9.69222612e-01 3.07773885e-02]\n",
      " [9.50105893e-01 4.98941074e-02]\n",
      " [9.64608456e-01 3.53915436e-02]\n",
      " [2.76876379e-01 7.23123621e-01]\n",
      " [9.82819046e-01 1.71809541e-02]\n",
      " [9.75506948e-01 2.44930521e-02]\n",
      " [9.88428185e-01 1.15718148e-02]\n",
      " [9.88202789e-01 1.17972108e-02]\n",
      " [8.05908844e-01 1.94091156e-01]\n",
      " [7.11428059e-01 2.88571941e-01]\n",
      " [9.27898838e-01 7.21011622e-02]\n",
      " [6.55456891e-01 3.44543109e-01]\n",
      " [9.90428130e-01 9.57186990e-03]\n",
      " [9.90418985e-01 9.58101520e-03]\n",
      " [9.98225816e-01 1.77418439e-03]\n",
      " [9.72732504e-01 2.72674964e-02]\n",
      " [6.44609654e-01 3.55390346e-01]\n",
      " [9.85573253e-01 1.44267474e-02]\n",
      " [9.65708818e-01 3.42911820e-02]\n",
      " [2.60350154e-01 7.39649846e-01]\n",
      " [7.09265655e-01 2.90734345e-01]\n",
      " [9.40037368e-01 5.99626324e-02]\n",
      " [7.40024568e-01 2.59975432e-01]\n",
      " [9.42725784e-01 5.72742155e-02]\n",
      " [9.56019633e-01 4.39803670e-02]\n",
      " [9.88631009e-01 1.13689908e-02]\n",
      " [8.93474363e-01 1.06525637e-01]\n",
      " [9.65874447e-01 3.41255530e-02]\n",
      " [6.38209582e-01 3.61790418e-01]\n",
      " [9.90924445e-01 9.07555451e-03]\n",
      " [9.89738314e-01 1.02616857e-02]\n",
      " [8.91881422e-01 1.08118578e-01]\n",
      " [9.37084073e-01 6.29159267e-02]\n",
      " [9.06094676e-01 9.39053240e-02]\n",
      " [7.75177606e-01 2.24822394e-01]\n",
      " [9.58717557e-01 4.12824435e-02]\n",
      " [9.70519056e-01 2.94809445e-02]\n",
      " [3.38961166e-01 6.61038834e-01]\n",
      " [9.83228516e-01 1.67714837e-02]\n",
      " [8.59524520e-01 1.40475480e-01]\n",
      " [8.93990850e-01 1.06009150e-01]\n",
      " [9.85175084e-01 1.48249162e-02]\n",
      " [9.92105022e-01 7.89497813e-03]\n",
      " [9.85108105e-01 1.48918949e-02]\n",
      " [9.84933886e-01 1.50661145e-02]\n",
      " [9.52552883e-01 4.74471169e-02]\n",
      " [9.30443872e-01 6.95561275e-02]\n",
      " [4.88716111e-01 5.11283889e-01]\n",
      " [9.74158486e-01 2.58415143e-02]\n",
      " [9.41459205e-01 5.85407955e-02]\n",
      " [6.26421773e-01 3.73578227e-01]\n",
      " [9.87319590e-01 1.26804105e-02]\n",
      " [9.02852024e-01 9.71479756e-02]\n",
      " [8.88970382e-01 1.11029618e-01]\n",
      " [7.07826591e-01 2.92173409e-01]\n",
      " [7.73025717e-01 2.26974283e-01]\n",
      " [9.67296778e-01 3.27032220e-02]\n",
      " [6.64066305e-01 3.35933695e-01]\n",
      " [9.97978562e-01 2.02143807e-03]\n",
      " [9.73479606e-01 2.65203935e-02]\n",
      " [9.42719414e-01 5.72805859e-02]\n",
      " [9.49676627e-01 5.03233729e-02]\n",
      " [9.85540655e-01 1.44593454e-02]\n",
      " [9.61607531e-01 3.83924686e-02]\n",
      " [7.88129261e-01 2.11870739e-01]\n",
      " [9.93350949e-01 6.64905071e-03]\n",
      " [9.37682390e-01 6.23176096e-02]\n",
      " [8.42564705e-01 1.57435295e-01]\n",
      " [5.60043263e-01 4.39956737e-01]\n",
      " [9.83927770e-01 1.60722304e-02]\n",
      " [9.23332655e-01 7.66673454e-02]\n",
      " [8.66100555e-01 1.33899445e-01]\n",
      " [9.89518057e-01 1.04819433e-02]\n",
      " [9.35041017e-01 6.49589835e-02]\n",
      " [9.93419439e-01 6.58056063e-03]\n",
      " [9.70551720e-01 2.94482802e-02]\n",
      " [9.85398403e-01 1.46015969e-02]\n",
      " [9.94092628e-01 5.90737215e-03]\n",
      " [5.73278423e-01 4.26721577e-01]\n",
      " [9.76983764e-01 2.30162362e-02]\n",
      " [9.20144980e-01 7.98550204e-02]\n",
      " [9.94206086e-01 5.79391381e-03]\n",
      " [8.99859389e-01 1.00140611e-01]\n",
      " [9.69217618e-01 3.07823817e-02]\n",
      " [7.01645816e-01 2.98354184e-01]\n",
      " [6.21483381e-01 3.78516619e-01]\n",
      " [9.90751477e-01 9.24852299e-03]\n",
      " [9.96905317e-01 3.09468345e-03]\n",
      " [9.90881800e-01 9.11820012e-03]\n",
      " [9.65634394e-01 3.43656061e-02]\n",
      " [9.84858111e-01 1.51418891e-02]\n",
      " [7.00850145e-01 2.99149855e-01]\n",
      " [9.88379960e-01 1.16200400e-02]\n",
      " [9.08196145e-01 9.18038549e-02]\n",
      " [7.00850145e-01 2.99149855e-01]\n",
      " [9.66645769e-01 3.33542314e-02]\n",
      " [9.65149014e-01 3.48509862e-02]\n",
      " [6.99753939e-01 3.00246061e-01]\n",
      " [9.76176164e-01 2.38238363e-02]\n",
      " [7.18233232e-01 2.81766768e-01]\n",
      " [6.56583256e-01 3.43416744e-01]\n",
      " [9.77277873e-01 2.27221267e-02]\n",
      " [9.71991735e-01 2.80082651e-02]\n",
      " [9.91908571e-01 8.09142861e-03]\n",
      " [9.45521346e-01 5.44786539e-02]\n",
      " [9.76724141e-01 2.32758591e-02]\n",
      " [9.85309394e-01 1.46906056e-02]\n",
      " [9.93418896e-01 6.58110414e-03]\n",
      " [8.39369130e-01 1.60630870e-01]\n",
      " [7.91837459e-01 2.08162541e-01]\n",
      " [9.45800231e-01 5.41997691e-02]\n",
      " [9.25913753e-01 7.40862474e-02]\n",
      " [5.13643580e-01 4.86356420e-01]\n",
      " [9.78573761e-01 2.14262389e-02]\n",
      " [9.30233491e-01 6.97665090e-02]\n",
      " [7.67757612e-01 2.32242388e-01]\n",
      " [9.89553230e-01 1.04467703e-02]\n",
      " [9.74339122e-01 2.56608775e-02]\n",
      " [8.11823677e-01 1.88176323e-01]\n",
      " [2.60196731e-01 7.39803269e-01]\n",
      " [9.70462731e-01 2.95372694e-02]\n",
      " [9.58849779e-01 4.11502207e-02]\n",
      " [4.95473292e-01 5.04526708e-01]\n",
      " [9.88112550e-01 1.18874503e-02]\n",
      " [9.71040412e-01 2.89595882e-02]\n",
      " [8.14621034e-01 1.85378966e-01]\n",
      " [9.78071160e-01 2.19288397e-02]\n",
      " [7.05264136e-01 2.94735864e-01]\n",
      " [8.39969502e-01 1.60030498e-01]\n",
      " [8.76615011e-01 1.23384989e-01]\n",
      " [9.91583516e-01 8.41648371e-03]\n",
      " [9.93362524e-01 6.63747640e-03]\n",
      " [9.17631740e-01 8.23682601e-02]\n",
      " [9.91756694e-01 8.24330630e-03]\n",
      " [7.81037270e-01 2.18962730e-01]\n",
      " [5.86843851e-01 4.13156149e-01]\n",
      " [8.85672079e-01 1.14327921e-01]\n",
      " [9.86282188e-01 1.37178119e-02]\n",
      " [9.78791659e-01 2.12083412e-02]\n",
      " [6.05323346e-01 3.94676654e-01]\n",
      " [9.68010830e-01 3.19891700e-02]\n",
      " [9.94063343e-01 5.93665661e-03]\n",
      " [9.47458963e-01 5.25410367e-02]\n",
      " [9.91079636e-01 8.92036416e-03]\n",
      " [9.72624642e-01 2.73753581e-02]\n",
      " [7.57215369e-01 2.42784631e-01]\n",
      " [5.13949161e-01 4.86050839e-01]\n",
      " [9.82952464e-01 1.70475364e-02]\n",
      " [4.99811349e-01 5.00188651e-01]\n",
      " [9.92013565e-01 7.98643471e-03]\n",
      " [8.82980966e-01 1.17019034e-01]\n",
      " [9.77869515e-01 2.21304853e-02]\n",
      " [9.44286171e-01 5.57138295e-02]\n",
      " [8.66715424e-01 1.33284576e-01]\n",
      " [9.18280594e-01 8.17194062e-02]\n",
      " [8.36532565e-01 1.63467435e-01]\n",
      " [6.63080015e-01 3.36919985e-01]\n",
      " [6.94537870e-01 3.05462130e-01]\n",
      " [8.52359328e-01 1.47640672e-01]\n",
      " [9.89149164e-01 1.08508358e-02]\n",
      " [9.49323857e-01 5.06761431e-02]\n",
      " [9.93312008e-01 6.68799235e-03]\n",
      " [9.91019251e-01 8.98074910e-03]\n",
      " [6.39531179e-01 3.60468821e-01]\n",
      " [9.94714950e-01 5.28505040e-03]\n",
      " [7.09916200e-01 2.90083800e-01]\n",
      " [2.83196885e-01 7.16803115e-01]\n",
      " [9.87617724e-01 1.23822757e-02]\n",
      " [5.68581615e-01 4.31418385e-01]\n",
      " [9.83631607e-01 1.63683928e-02]\n",
      " [9.89910095e-01 1.00899048e-02]\n",
      " [3.52333023e-01 6.47666977e-01]\n",
      " [9.87812513e-01 1.21874865e-02]\n",
      " [9.84280233e-01 1.57197667e-02]\n",
      " [9.27972698e-01 7.20273024e-02]\n",
      " [7.87898975e-01 2.12101025e-01]\n",
      " [9.13859839e-01 8.61401611e-02]\n",
      " [9.52006027e-01 4.79939729e-02]\n",
      " [9.78817525e-01 2.11824752e-02]\n",
      " [9.62354361e-01 3.76456390e-02]\n",
      " [9.90796652e-01 9.20334754e-03]\n",
      " [8.16257515e-01 1.83742485e-01]\n",
      " [4.78460584e-01 5.21539416e-01]\n",
      " [9.96652048e-01 3.34795176e-03]\n",
      " [9.83911609e-01 1.60883914e-02]\n",
      " [8.84800335e-01 1.15199665e-01]\n",
      " [9.86010616e-01 1.39893839e-02]\n",
      " [9.89665546e-01 1.03344544e-02]\n",
      " [7.96769039e-01 2.03230961e-01]\n",
      " [9.78026420e-01 2.19735800e-02]\n",
      " [9.08423774e-01 9.15762262e-02]\n",
      " [6.79626638e-01 3.20373362e-01]\n",
      " [9.90099678e-01 9.90032195e-03]\n",
      " [8.78151001e-01 1.21848999e-01]\n",
      " [6.68285701e-01 3.31714299e-01]\n",
      " [8.41640519e-01 1.58359481e-01]\n",
      " [9.52040426e-01 4.79595736e-02]\n",
      " [6.68444084e-01 3.31555916e-01]\n",
      " [6.21483381e-01 3.78516619e-01]\n",
      " [9.90663545e-01 9.33645482e-03]\n",
      " [9.89659503e-01 1.03404966e-02]\n",
      " [8.68633206e-01 1.31366794e-01]\n",
      " [7.52098313e-01 2.47901687e-01]\n",
      " [9.77869964e-01 2.21300364e-02]\n",
      " [8.91028424e-01 1.08971576e-01]\n",
      " [9.74978565e-01 2.50214354e-02]\n",
      " [8.60338769e-01 1.39661231e-01]\n",
      " [8.91604898e-01 1.08395102e-01]\n",
      " [9.70246576e-01 2.97534241e-02]\n",
      " [9.10488836e-01 8.95111641e-02]\n",
      " [9.08295004e-01 9.17049957e-02]\n",
      " [9.64581814e-01 3.54181861e-02]\n",
      " [5.27222628e-01 4.72777372e-01]\n",
      " [9.32023002e-01 6.79769980e-02]\n",
      " [7.83861591e-01 2.16138409e-01]\n",
      " [9.68381119e-01 3.16188811e-02]\n",
      " [9.88057771e-01 1.19422292e-02]\n",
      " [9.49676794e-01 5.03232056e-02]\n",
      " [9.60321603e-01 3.96783969e-02]\n",
      " [9.79208180e-01 2.07918202e-02]\n",
      " [9.07502446e-01 9.24975544e-02]\n",
      " [8.12088492e-01 1.87911508e-01]\n",
      " [8.25857550e-01 1.74142450e-01]\n",
      " [9.91756694e-01 8.24330630e-03]\n",
      " [7.41615154e-01 2.58384846e-01]\n",
      " [9.87004688e-01 1.29953116e-02]\n",
      " [9.64317928e-01 3.56820720e-02]\n",
      " [7.34004698e-01 2.65995302e-01]\n",
      " [9.59160138e-01 4.08398618e-02]\n",
      " [8.93313358e-01 1.06686642e-01]\n",
      " [6.29049937e-01 3.70950063e-01]\n",
      " [9.93568433e-01 6.43156718e-03]\n",
      " [9.18399298e-01 8.16007025e-02]\n",
      " [9.96232379e-01 3.76762137e-03]\n",
      " [8.62558544e-01 1.37441456e-01]\n",
      " [9.88642258e-01 1.13577421e-02]\n",
      " [2.28869024e-01 7.71130976e-01]\n",
      " [9.82938255e-01 1.70617449e-02]\n",
      " [9.80652789e-01 1.93472111e-02]\n",
      " [6.53552448e-01 3.46447552e-01]\n",
      " [8.41345526e-01 1.58654474e-01]\n",
      " [4.39931045e-01 5.60068955e-01]\n",
      " [9.42055377e-01 5.79446227e-02]\n",
      " [4.87874994e-01 5.12125006e-01]\n",
      " [9.41713292e-01 5.82867076e-02]\n",
      " [4.52012982e-01 5.47987018e-01]\n",
      " [9.75080142e-01 2.49198579e-02]\n",
      " [9.24183055e-01 7.58169449e-02]\n",
      " [9.03210937e-01 9.67890633e-02]\n",
      " [9.94092628e-01 5.90737215e-03]\n",
      " [9.91562932e-01 8.43706817e-03]\n",
      " [9.78926151e-01 2.10738492e-02]\n",
      " [9.37970606e-01 6.20293939e-02]\n",
      " [4.93240031e-01 5.06759969e-01]\n",
      " [9.77249128e-01 2.27508722e-02]\n",
      " [9.84708166e-01 1.52918335e-02]\n",
      " [9.65846377e-01 3.41536234e-02]\n",
      " [8.91028424e-01 1.08971576e-01]\n",
      " [9.74893077e-01 2.51069229e-02]\n",
      " [5.96025750e-01 4.03974250e-01]\n",
      " [9.89852702e-01 1.01472977e-02]\n",
      " [8.26317423e-01 1.73682577e-01]\n",
      " [7.03609811e-01 2.96390189e-01]\n",
      " [5.28387647e-01 4.71612353e-01]\n",
      " [8.40296875e-01 1.59703125e-01]\n",
      " [9.71392957e-01 2.86070434e-02]\n",
      " [9.21554980e-01 7.84450198e-02]\n",
      " [7.10060749e-01 2.89939251e-01]\n",
      " [8.89541748e-01 1.10458252e-01]\n",
      " [8.08188492e-01 1.91811508e-01]\n",
      " [9.73868677e-01 2.61313226e-02]\n",
      " [9.93851115e-01 6.14888458e-03]\n",
      " [6.71272654e-01 3.28727346e-01]\n",
      " [9.81568716e-01 1.84312843e-02]\n",
      " [6.97991810e-01 3.02008190e-01]\n",
      " [7.12798400e-01 2.87201600e-01]\n",
      " [9.16456272e-01 8.35437280e-02]\n",
      " [9.24192663e-01 7.58073374e-02]\n",
      " [9.91425624e-01 8.57437626e-03]\n",
      " [8.32045097e-01 1.67954903e-01]\n",
      " [9.94564963e-01 5.43503710e-03]\n",
      " [6.24615932e-01 3.75384068e-01]\n",
      " [9.26221064e-01 7.37789363e-02]\n",
      " [9.77114859e-01 2.28851408e-02]\n",
      " [9.51831827e-01 4.81681731e-02]\n",
      " [6.29379798e-01 3.70620202e-01]\n",
      " [8.00024003e-01 1.99975997e-01]\n",
      " [9.65557298e-01 3.44427015e-02]\n",
      " [9.64608456e-01 3.53915436e-02]\n",
      " [9.85175084e-01 1.48249162e-02]\n",
      " [9.91007134e-01 8.99286612e-03]\n",
      " [7.46923768e-01 2.53076232e-01]\n",
      " [5.53571719e-01 4.46428281e-01]\n",
      " [9.90751477e-01 9.24852299e-03]\n",
      " [7.73404991e-01 2.26595009e-01]\n",
      " [9.23285737e-01 7.67142629e-02]\n",
      " [9.12909929e-01 8.70900708e-02]\n",
      " [8.01587575e-01 1.98412425e-01]\n",
      " [4.69399115e-01 5.30600885e-01]\n",
      " [9.46607584e-01 5.33924157e-02]\n",
      " [6.41267080e-01 3.58732920e-01]\n",
      " [9.87388849e-01 1.26111507e-02]\n",
      " [8.48162251e-01 1.51837749e-01]\n",
      " [9.38534678e-01 6.14653225e-02]\n",
      " [9.39420407e-01 6.05795932e-02]\n",
      " [6.69831259e-01 3.30168741e-01]\n",
      " [9.91203495e-01 8.79650465e-03]\n",
      " [9.28817965e-01 7.11820353e-02]\n",
      " [9.88556377e-01 1.14436227e-02]\n",
      " [9.98456512e-01 1.54348774e-03]\n",
      " [9.69650894e-01 3.03491061e-02]\n",
      " [9.82765860e-01 1.72341405e-02]\n",
      " [4.70459205e-01 5.29540795e-01]\n",
      " [9.77625997e-01 2.23740032e-02]\n",
      " [9.77132674e-01 2.28673261e-02]\n",
      " [9.48946143e-01 5.10538574e-02]\n",
      " [9.96544622e-01 3.45537835e-03]\n",
      " [9.84187533e-01 1.58124671e-02]\n",
      " [6.25136006e-01 3.74863994e-01]\n",
      " [8.86049151e-01 1.13950849e-01]\n",
      " [9.74740634e-01 2.52593660e-02]\n",
      " [9.94624751e-01 5.37524866e-03]\n",
      " [9.88428185e-01 1.15718148e-02]\n",
      " [9.75607187e-01 2.43928132e-02]\n",
      " [9.89837033e-01 1.01629667e-02]\n",
      " [9.80217544e-01 1.97824558e-02]\n",
      " [7.75379545e-01 2.24620455e-01]\n",
      " [5.85206260e-01 4.14793740e-01]\n",
      " [9.86653910e-01 1.33460895e-02]\n",
      " [4.62153761e-01 5.37846239e-01]\n",
      " [7.44909433e-01 2.55090567e-01]\n",
      " [9.97724212e-01 2.27578823e-03]\n",
      " [9.84613474e-01 1.53865256e-02]\n",
      " [7.23792659e-01 2.76207341e-01]\n",
      " [9.75955216e-01 2.40447838e-02]\n",
      " [9.87816468e-01 1.21835318e-02]\n",
      " [9.28972393e-01 7.10276069e-02]\n",
      " [9.66764447e-01 3.32355535e-02]\n",
      " [9.92937921e-01 7.06207852e-03]\n",
      " [9.15628375e-01 8.43716251e-02]\n",
      " [8.57159255e-01 1.42840745e-01]\n",
      " [8.66241419e-01 1.33758581e-01]\n",
      " [8.91979167e-01 1.08020833e-01]\n",
      " [9.48404202e-01 5.15957983e-02]\n",
      " [9.71392957e-01 2.86070434e-02]\n",
      " [9.58178893e-01 4.18211074e-02]\n",
      " [6.53166457e-01 3.46833543e-01]\n",
      " [9.77945729e-01 2.20542711e-02]\n",
      " [9.90881800e-01 9.11820012e-03]\n",
      " [9.74830609e-01 2.51693913e-02]\n",
      " [9.93600879e-01 6.39912145e-03]\n",
      " [9.74035866e-01 2.59641339e-02]\n",
      " [9.95667606e-01 4.33239391e-03]]\n"
     ]
    }
   ],
   "source": [
    "y_pred_prob = classifier.predict_proba(X_test)\n",
    "print(y_pred_prob)"
   ]
  },
  {
   "cell_type": "code",
   "execution_count": 52,
   "metadata": {},
   "outputs": [
    {
     "name": "stdout",
     "output_type": "stream",
     "text": [
      "[0, 0, 0, 0, 0, 0, 0, 0, 0, 0, 0, 1, 0, 0, 0, 0, 0, 0, 0, 0, 0, 0, 1, 0, 0, 0, 0, 0, 0, 0, 0, 0, 1, 0, 0, 0, 0, 0, 0, 0, 0, 0, 0, 0, 0, 0, 0, 0, 0, 0, 0, 0, 0, 0, 0, 0, 0, 0, 0, 0, 0, 0, 0, 0, 1, 0, 0, 0, 0, 0, 0, 0, 0, 0, 0, 0, 0, 0, 0, 0, 0, 0, 0, 0, 0, 0, 0, 0, 0, 0, 0, 0, 0, 0, 0, 1, 0, 0, 0, 0, 0, 0, 0, 0, 0, 0, 0, 0, 1, 0, 0, 0, 0, 0, 0, 0, 0, 0, 0, 0, 0, 0, 0, 0, 0, 1, 0, 0, 0, 0, 1, 0, 0, 0, 0, 0, 0, 0, 0, 0, 0, 0, 0, 0, 0, 0, 1, 0, 0, 0, 0, 0, 0, 0, 0, 0, 0, 0, 0, 0, 0, 0, 0, 0, 1, 0, 0, 0, 0, 0, 0, 0, 0, 0, 1, 0, 0, 0, 0, 0, 0, 0, 0, 0, 0, 0, 0, 0, 0, 0, 0, 0, 0, 0, 0, 0, 0, 0, 0, 0, 0, 0, 0, 0, 0, 0, 0, 0, 0, 0, 0, 0, 0, 0, 0, 0, 0, 0, 0, 0, 0, 0, 0, 0, 0, 0, 0, 0, 0, 0, 0, 0, 0, 0, 0, 0, 0, 0, 0, 1, 0, 0, 0, 0, 0, 0, 1, 0, 0, 1, 0, 0, 0, 0, 0, 0, 0, 0, 0, 0, 0, 0, 0, 0, 0, 0, 0, 0, 0, 0, 0, 0, 0, 1, 0, 1, 0, 0, 0, 0, 0, 0, 0, 0, 0, 0, 0, 0, 0, 0, 0, 0, 0, 1, 0, 0, 0, 0, 1, 0, 0, 0, 0, 0, 0, 0, 0, 0, 0, 1, 0, 0, 0, 0, 0, 0, 0, 0, 0, 0, 0, 0, 0, 0, 0, 0, 0, 0, 0, 0, 0, 0, 0, 0, 0, 0, 0, 0, 0, 1, 0, 0, 0, 0, 0, 0, 0, 0, 0, 0, 0, 0, 0, 0, 0, 0, 0, 0, 0, 0, 0, 0, 0, 1, 0, 0, 0, 0, 1, 0, 1, 0, 1, 0, 0, 0, 0, 0, 0, 0, 1, 0, 0, 0, 0, 0, 0, 0, 0, 0, 1, 0, 0, 0, 0, 0, 0, 0, 0, 0, 0, 0, 0, 0, 0, 0, 0, 0, 0, 0, 0, 0, 0, 0, 0, 0, 0, 0, 0, 0, 0, 0, 0, 0, 0, 1, 0, 0, 0, 0, 0, 0, 0, 0, 0, 0, 0, 0, 0, 1, 0, 0, 0, 0, 0, 0, 0, 0, 0, 0, 0, 0, 0, 0, 0, 0, 1, 0, 0, 0, 0, 0, 0, 0, 0, 0, 0, 0, 0, 0, 0, 0, 0, 0, 0, 0, 0, 0, 0, 0]\n"
     ]
    }
   ],
   "source": [
    "y_pred_class=[]\n",
    "for value in y_pred_prob[:,1]:\n",
    "    if value > 0.46:\n",
    "        y_pred_class.append(1)\n",
    "    else:\n",
    "        y_pred_class.append(0)\n",
    "print(y_pred_class)"
   ]
  },
  {
   "cell_type": "code",
   "execution_count": 53,
   "metadata": {},
   "outputs": [
    {
     "name": "stdout",
     "output_type": "stream",
     "text": [
      "[[394  13]\n",
      " [ 57  16]]\n",
      "Accuracy of the model:  0.8541666666666666\n",
      "              precision    recall  f1-score   support\n",
      "\n",
      "           0       0.87      0.97      0.92       407\n",
      "           1       0.55      0.22      0.31        73\n",
      "\n",
      "    accuracy                           0.85       480\n",
      "   macro avg       0.71      0.59      0.62       480\n",
      "weighted avg       0.82      0.85      0.83       480\n",
      "\n"
     ]
    }
   ],
   "source": [
    "from sklearn.metrics import confusion_matrix,accuracy_score,classification_report\n",
    "cfm=confusion_matrix(Y_test,y_pred_class)\n",
    "print(cfm)\n",
    "acc=accuracy_score(Y_test, y_pred_class)\n",
    "print(\"Accuracy of the model: \",acc)\n",
    "print(classification_report(Y_test, y_pred_class))"
   ]
  },
  {
   "cell_type": "code",
   "execution_count": 54,
   "metadata": {},
   "outputs": [
    {
     "name": "stdout",
     "output_type": "stream",
     "text": [
      "0.8430211032950758\n"
     ]
    }
   ],
   "source": [
    "#ROC\n",
    "from sklearn import metrics\n",
    "fpr, tpr, z = metrics.roc_curve(Y_test, y_pred_prob[:,1])\n",
    "auc = metrics.auc(fpr,tpr)\n",
    "print(auc)"
   ]
  },
  {
   "cell_type": "code",
   "execution_count": 55,
   "metadata": {},
   "outputs": [
    {
     "name": "stdout",
     "output_type": "stream",
     "text": [
      "0.8430211032950758\n"
     ]
    }
   ],
   "source": [
    "from sklearn import metrics\n",
    "\n",
    "fpr, tpr, z = metrics.roc_curve(Y_test, y_pred_prob[:,1])\n",
    "auc = metrics.auc(fpr,tpr)\n",
    "\n",
    "print(auc)"
   ]
  },
  {
   "cell_type": "code",
   "execution_count": 56,
   "metadata": {},
   "outputs": [
    {
     "data": {
      "image/png": "[encoded data removed]",
      "text/plain": [
       "<Figure size 432x288 with 1 Axes>"
      ]
     },
     "metadata": {
      "needs_background": "light"
     },
     "output_type": "display_data"
    }
   ],
   "source": [
    "import matplotlib.pyplot as plt\n",
    "plt.title('Receiver Operating Characteristic')\n",
    "plt.plot(fpr,tpr, 'b', label = auc)\n",
    "plt.legend(loc = 'lower right')\n",
    "plt.plot([0, 1], [0, 1],'r--')\n",
    "plt.xlim([0, 1])\n",
    "plt.ylim([0, 1])\n",
    "plt.xlabel('False Positive Rate')\n",
    "plt.ylabel('True Positive Rate')\n",
    "\n",
    "plt.show()\n"
   ]
  },
  {
   "cell_type": "code",
   "execution_count": 57,
   "metadata": {},
   "outputs": [
    {
     "name": "stdout",
     "output_type": "stream",
     "text": [
      "[1 0 0 0 0 0 0 1 0 1 0 1 0 0 0 0 0 0 0 0 0 0 0 0 0 1 0 1 0 0 0 0 0 0 0 0 0\n",
      " 0 0 0 0 0 0 0 0 0 0 0 0 0 0 0 0 0 0 0 0 0 0 0 0 0 0 0 0 0 1 0 0 0 0 0 0 0\n",
      " 0 0 0 0 0 0 0 0 0 0 0 0 0 1 0 0 0 0 0 1 0 0 0 0 0 0 0 0 0 0 1 0 0 0 0 1 0\n",
      " 0 0 0 0 0 0 0 0 0 0 0 0 0 0 0 0 0 0 0 1 0 0 0 0 1 0 0 0 0 0 0 0 0 0 0 1 0\n",
      " 1 0 0 0 0 0 0 1 0 0 0 0 0 0 0 0 0 0 0 0 0 0 0 0 0 0 0 0 1 0 0 0 1 1 0 0 0\n",
      " 0 0 0 1 0 0 1 0 0 0 0 0 0 0 0 0 0 0 0 0 0 0 0 0 0 0 0 1 0 0 0 0 0 1 0 0 1\n",
      " 0 0 0 0 0 0 0 0 0 0 0 0 0 0 0 0 1 1 0 0 0 0 0 0 1 0 0 1 0 0 1 0 0 0 0 0 0\n",
      " 0 0 0 0 0 0 0 0 0 0 0 0 0 0 1 0 0 0 0 0 0 0 0 0 1 0 1 0 0 0 0 0 0 0 0 0 0\n",
      " 0 0 1 0 0 0 0 0 0 0 0 0 0 1 0 0 1 0 0 0 0 0 0 0 1 0 0 0 1 1 0 0 0 1 0 0 0\n",
      " 0 0 0 0 0 0 0 0 0 0 0 0 0 0 1 0 1 0 0 0 0 0 0 0 0 0 0 0 0 0 1 0 0 0 0 1 1\n",
      " 0 0 1 1 0 0 0 0 0 0 1 0 0 0 0 0 1 0 0 0 0 0 0 0 0 0 0 0 0 0 0 0 0 0 0 0 1\n",
      " 0 1 0 0 1 0 0 0 0 0 0 0 0 0 0 0 1 1 1 0 1 0 1 0 0 1 0 1 0 0 0 0 0 0 0 0 0\n",
      " 0 1 0 0 0 0 0 0 0 1 1 0 0 0 0 0 1 0 0 0 0 0 0 0 0 0 0 0 0 0 0 0 0 0 0 0]\n"
     ]
    }
   ],
   "source": [
    "#2]Decision Tree\n",
    "#Model Building(Decision Tree)\n",
    "from sklearn.tree import DecisionTreeClassifier\n",
    "model_DT=DecisionTreeClassifier(criterion=\"gini\",random_state=10)\n",
    "model_DT.fit(X_train,Y_train)\n",
    "Y_pred=model_DT.predict(X_test)\n",
    "print(Y_pred)"
   ]
  },
  {
   "cell_type": "code",
   "execution_count": 58,
   "metadata": {},
   "outputs": [
    {
     "name": "stdout",
     "output_type": "stream",
     "text": [
      "[[385  22]\n",
      " [ 33  40]]\n",
      "              precision    recall  f1-score   support\n",
      "\n",
      "           0       0.92      0.95      0.93       407\n",
      "           1       0.65      0.55      0.59        73\n",
      "\n",
      "    accuracy                           0.89       480\n",
      "   macro avg       0.78      0.75      0.76       480\n",
      "weighted avg       0.88      0.89      0.88       480\n",
      "\n",
      "Classification report: \n",
      "Accuracy of the model:  0.8854166666666666\n"
     ]
    }
   ],
   "source": [
    "from sklearn.metrics import confusion_matrix, accuracy_score, classification_report\n",
    "\n",
    "cfm=confusion_matrix(Y_test,Y_pred)\n",
    "print(cfm)\n",
    "\n",
    "print(classification_report(Y_test,Y_pred))\n",
    "print(\"Classification report: \")\n",
    "\n",
    "acc=accuracy_score(Y_test, Y_pred)\n",
    "print(\"Accuracy of the model: \",acc)"
   ]
  },
  {
   "cell_type": "code",
   "execution_count": 60,
   "metadata": {},
   "outputs": [
    {
     "name": "stdout",
     "output_type": "stream",
     "text": [
      "[('fixed_acidity', 0.06165989473467347), ('volatile_acidity', 0.10762007789133862), ('citric_acid', 0.07443543251009445), ('residual_sugar', 0.028461594691857835), ('chlorides', 0.08609532968510661), ('free_sulfur_dioxide', 0.05808611131241908), ('total_sulfur_dioxide', 0.09069373516195806), ('density', 0.08254997317701779), ('pH', 0.05123636816056491), ('sulphates', 0.17868538839725365), ('alcohol', 0.1804760942777154)]\n"
     ]
    }
   ],
   "source": [
    "print(list(zip(wine_df_rev8.columns,model_DT.feature_importances_)))"
   ]
  },
  {
   "cell_type": "code",
   "execution_count": 68,
   "metadata": {},
   "outputs": [],
   "source": [
    "#Random Forest\n",
    "from sklearn.ensemble import RandomForestClassifier\n",
    "model=RandomForestClassifier(n_estimators=100,random_state=42)\n",
    "model.fit(X_train,Y_train)\n",
    "Y_pred=model.predict(X_test)"
   ]
  },
  {
   "cell_type": "code",
   "execution_count": 69,
   "metadata": {},
   "outputs": [
    {
     "name": "stdout",
     "output_type": "stream",
     "text": [
      "[[401   6]\n",
      " [ 36  37]]\n",
      "              precision    recall  f1-score   support\n",
      "\n",
      "           0       0.92      0.99      0.95       407\n",
      "           1       0.86      0.51      0.64        73\n",
      "\n",
      "    accuracy                           0.91       480\n",
      "   macro avg       0.89      0.75      0.79       480\n",
      "weighted avg       0.91      0.91      0.90       480\n",
      "\n",
      "Classification report: \n",
      "Accuracy of the model:  0.9125\n"
     ]
    }
   ],
   "source": [
    "from sklearn.metrics import confusion_matrix, accuracy_score, classification_report\n",
    "\n",
    "cfm=confusion_matrix(Y_test,Y_pred)\n",
    "print(cfm)\n",
    "\n",
    "print(classification_report(Y_test,Y_pred))\n",
    "print(\"Classification report: \")\n",
    "\n",
    "acc=accuracy_score(Y_test, Y_pred)\n",
    "print(\"Accuracy of the model: \",acc)"
   ]
  },
  {
   "cell_type": "code",
   "execution_count": 70,
   "metadata": {},
   "outputs": [],
   "source": [
    "from sklearn.ensemble import GradientBoostingClassifier\n",
    "model_GradientBoosting=GradientBoostingClassifier(n_estimators=71,random_state=10)\n",
    "model_GradientBoosting.fit(X_train,Y_train)\n",
    "Y_pred=model_GradientBoosting.predict(X_test)"
   ]
  },
  {
   "cell_type": "code",
   "execution_count": 71,
   "metadata": {},
   "outputs": [
    {
     "name": "stdout",
     "output_type": "stream",
     "text": [
      "[[396  11]\n",
      " [ 48  25]]\n",
      "              precision    recall  f1-score   support\n",
      "\n",
      "           0       0.89      0.97      0.93       407\n",
      "           1       0.69      0.34      0.46        73\n",
      "\n",
      "    accuracy                           0.88       480\n",
      "   macro avg       0.79      0.66      0.69       480\n",
      "weighted avg       0.86      0.88      0.86       480\n",
      "\n",
      "Classification report: \n",
      "Accuracy of the model:  0.8770833333333333\n"
     ]
    }
   ],
   "source": [
    "from sklearn.metrics import confusion_matrix, accuracy_score, classification_report\n",
    "\n",
    "cfm=confusion_matrix(Y_test,Y_pred)\n",
    "print(cfm)\n",
    "\n",
    "print(classification_report(Y_test,Y_pred))\n",
    "print(\"Classification report: \")\n",
    "\n",
    "acc=accuracy_score(Y_test, Y_pred)\n",
    "print(\"Accuracy of the model: \",acc)"
   ]
  },
  {
   "cell_type": "code",
   "execution_count": null,
   "metadata": {},
   "outputs": [],
   "source": []
  }
 ],
 "metadata": {
  "kernelspec": {
   "display_name": "Python 3",
   "language": "python",
   "name": "python3"
  },
  "language_info": {
   "codemirror_mode": {
    "name": "ipython",
    "version": 3
   },
   "file_extension": ".py",
   "mimetype": "text/x-python",
   "name": "python",
   "nbconvert_exporter": "python",
   "pygments_lexer": "ipython3",
   "version": "3.8.5"
  }
 },
 "nbformat": 4,
 "nbformat_minor": 4
}
